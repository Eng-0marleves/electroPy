{
 "cells": [
  {
   "cell_type": "code",
   "execution_count": 2,
   "id": "b1833e52-fae0-4501-bdec-586ab753f23b",
   "metadata": {},
   "outputs": [
    {
     "name": "stdout",
     "output_type": "stream",
     "text": [
      "                ID   Name  Salary  is_Manager  Money  Sleep_Mood  Health_Rate  \\\n",
      "0  140497469154608   omar    3200       False   1500           7           12   \n",
      "1  140497469154609   john    4000        True   2000           8           10   \n",
      "2  140497469154610  sarah    3500        True   1800           6           11   \n",
      "3  140497469154611  david    3000        True   1200           5            9   \n",
      "4  140497469154612  emily    5000        True   2500           9           12   \n",
      "\n",
      "             Email  Work_Mood  Meals  \n",
      "0   omar@gmail.com         12    2.0  \n",
      "1   john@gmail.com         15    1.0  \n",
      "2  sarah@gmail.com         14    3.0  \n",
      "3  david@gmail.com         11    2.0  \n",
      "4  emily@gmail.com         17    2.0  \n"
     ]
    }
   ],
   "source": [
    "import pandas as pd\n",
    "from pycaret.classification import *\n",
    "\n",
    "# Load merged data using pandas\n",
    "data = pd.read_csv('./Office.csv')\n",
    "print(data.head())"
   ]
  },
  {
   "cell_type": "code",
   "execution_count": 4,
   "id": "8878ba27-9ca7-40a6-b455-2ec6825fb2d7",
   "metadata": {},
   "outputs": [
    {
     "data": {
      "text/html": [
       "<style type=\"text/css\">\n",
       "#T_e9bc7_row10_col1 {\n",
       "  background-color: lightgreen;\n",
       "}\n",
       "</style>\n",
       "<table id=\"T_e9bc7\">\n",
       "  <thead>\n",
       "    <tr>\n",
       "      <th class=\"blank level0\" >&nbsp;</th>\n",
       "      <th id=\"T_e9bc7_level0_col0\" class=\"col_heading level0 col0\" >Description</th>\n",
       "      <th id=\"T_e9bc7_level0_col1\" class=\"col_heading level0 col1\" >Value</th>\n",
       "    </tr>\n",
       "  </thead>\n",
       "  <tbody>\n",
       "    <tr>\n",
       "      <th id=\"T_e9bc7_level0_row0\" class=\"row_heading level0 row0\" >0</th>\n",
       "      <td id=\"T_e9bc7_row0_col0\" class=\"data row0 col0\" >Session id</td>\n",
       "      <td id=\"T_e9bc7_row0_col1\" class=\"data row0 col1\" >4442</td>\n",
       "    </tr>\n",
       "    <tr>\n",
       "      <th id=\"T_e9bc7_level0_row1\" class=\"row_heading level0 row1\" >1</th>\n",
       "      <td id=\"T_e9bc7_row1_col0\" class=\"data row1 col0\" >Target</td>\n",
       "      <td id=\"T_e9bc7_row1_col1\" class=\"data row1 col1\" >is_Manager</td>\n",
       "    </tr>\n",
       "    <tr>\n",
       "      <th id=\"T_e9bc7_level0_row2\" class=\"row_heading level0 row2\" >2</th>\n",
       "      <td id=\"T_e9bc7_row2_col0\" class=\"data row2 col0\" >Target type</td>\n",
       "      <td id=\"T_e9bc7_row2_col1\" class=\"data row2 col1\" >Binary</td>\n",
       "    </tr>\n",
       "    <tr>\n",
       "      <th id=\"T_e9bc7_level0_row3\" class=\"row_heading level0 row3\" >3</th>\n",
       "      <td id=\"T_e9bc7_row3_col0\" class=\"data row3 col0\" >Original data shape</td>\n",
       "      <td id=\"T_e9bc7_row3_col1\" class=\"data row3 col1\" >(25, 10)</td>\n",
       "    </tr>\n",
       "    <tr>\n",
       "      <th id=\"T_e9bc7_level0_row4\" class=\"row_heading level0 row4\" >4</th>\n",
       "      <td id=\"T_e9bc7_row4_col0\" class=\"data row4 col0\" >Transformed data shape</td>\n",
       "      <td id=\"T_e9bc7_row4_col1\" class=\"data row4 col1\" >(25, 34)</td>\n",
       "    </tr>\n",
       "    <tr>\n",
       "      <th id=\"T_e9bc7_level0_row5\" class=\"row_heading level0 row5\" >5</th>\n",
       "      <td id=\"T_e9bc7_row5_col0\" class=\"data row5 col0\" >Transformed train set shape</td>\n",
       "      <td id=\"T_e9bc7_row5_col1\" class=\"data row5 col1\" >(17, 34)</td>\n",
       "    </tr>\n",
       "    <tr>\n",
       "      <th id=\"T_e9bc7_level0_row6\" class=\"row_heading level0 row6\" >6</th>\n",
       "      <td id=\"T_e9bc7_row6_col0\" class=\"data row6 col0\" >Transformed test set shape</td>\n",
       "      <td id=\"T_e9bc7_row6_col1\" class=\"data row6 col1\" >(8, 34)</td>\n",
       "    </tr>\n",
       "    <tr>\n",
       "      <th id=\"T_e9bc7_level0_row7\" class=\"row_heading level0 row7\" >7</th>\n",
       "      <td id=\"T_e9bc7_row7_col0\" class=\"data row7 col0\" >Numeric features</td>\n",
       "      <td id=\"T_e9bc7_row7_col1\" class=\"data row7 col1\" >7</td>\n",
       "    </tr>\n",
       "    <tr>\n",
       "      <th id=\"T_e9bc7_level0_row8\" class=\"row_heading level0 row8\" >8</th>\n",
       "      <td id=\"T_e9bc7_row8_col0\" class=\"data row8 col0\" >Categorical features</td>\n",
       "      <td id=\"T_e9bc7_row8_col1\" class=\"data row8 col1\" >2</td>\n",
       "    </tr>\n",
       "    <tr>\n",
       "      <th id=\"T_e9bc7_level0_row9\" class=\"row_heading level0 row9\" >9</th>\n",
       "      <td id=\"T_e9bc7_row9_col0\" class=\"data row9 col0\" >Rows with missing values</td>\n",
       "      <td id=\"T_e9bc7_row9_col1\" class=\"data row9 col1\" >4.0%</td>\n",
       "    </tr>\n",
       "    <tr>\n",
       "      <th id=\"T_e9bc7_level0_row10\" class=\"row_heading level0 row10\" >10</th>\n",
       "      <td id=\"T_e9bc7_row10_col0\" class=\"data row10 col0\" >Preprocess</td>\n",
       "      <td id=\"T_e9bc7_row10_col1\" class=\"data row10 col1\" >True</td>\n",
       "    </tr>\n",
       "    <tr>\n",
       "      <th id=\"T_e9bc7_level0_row11\" class=\"row_heading level0 row11\" >11</th>\n",
       "      <td id=\"T_e9bc7_row11_col0\" class=\"data row11 col0\" >Imputation type</td>\n",
       "      <td id=\"T_e9bc7_row11_col1\" class=\"data row11 col1\" >simple</td>\n",
       "    </tr>\n",
       "    <tr>\n",
       "      <th id=\"T_e9bc7_level0_row12\" class=\"row_heading level0 row12\" >12</th>\n",
       "      <td id=\"T_e9bc7_row12_col0\" class=\"data row12 col0\" >Numeric imputation</td>\n",
       "      <td id=\"T_e9bc7_row12_col1\" class=\"data row12 col1\" >mean</td>\n",
       "    </tr>\n",
       "    <tr>\n",
       "      <th id=\"T_e9bc7_level0_row13\" class=\"row_heading level0 row13\" >13</th>\n",
       "      <td id=\"T_e9bc7_row13_col0\" class=\"data row13 col0\" >Categorical imputation</td>\n",
       "      <td id=\"T_e9bc7_row13_col1\" class=\"data row13 col1\" >mode</td>\n",
       "    </tr>\n",
       "    <tr>\n",
       "      <th id=\"T_e9bc7_level0_row14\" class=\"row_heading level0 row14\" >14</th>\n",
       "      <td id=\"T_e9bc7_row14_col0\" class=\"data row14 col0\" >Maximum one-hot encoding</td>\n",
       "      <td id=\"T_e9bc7_row14_col1\" class=\"data row14 col1\" >25</td>\n",
       "    </tr>\n",
       "    <tr>\n",
       "      <th id=\"T_e9bc7_level0_row15\" class=\"row_heading level0 row15\" >15</th>\n",
       "      <td id=\"T_e9bc7_row15_col0\" class=\"data row15 col0\" >Encoding method</td>\n",
       "      <td id=\"T_e9bc7_row15_col1\" class=\"data row15 col1\" >None</td>\n",
       "    </tr>\n",
       "    <tr>\n",
       "      <th id=\"T_e9bc7_level0_row16\" class=\"row_heading level0 row16\" >16</th>\n",
       "      <td id=\"T_e9bc7_row16_col0\" class=\"data row16 col0\" >Fold Generator</td>\n",
       "      <td id=\"T_e9bc7_row16_col1\" class=\"data row16 col1\" >StratifiedKFold</td>\n",
       "    </tr>\n",
       "    <tr>\n",
       "      <th id=\"T_e9bc7_level0_row17\" class=\"row_heading level0 row17\" >17</th>\n",
       "      <td id=\"T_e9bc7_row17_col0\" class=\"data row17 col0\" >Fold Number</td>\n",
       "      <td id=\"T_e9bc7_row17_col1\" class=\"data row17 col1\" >10</td>\n",
       "    </tr>\n",
       "    <tr>\n",
       "      <th id=\"T_e9bc7_level0_row18\" class=\"row_heading level0 row18\" >18</th>\n",
       "      <td id=\"T_e9bc7_row18_col0\" class=\"data row18 col0\" >CPU Jobs</td>\n",
       "      <td id=\"T_e9bc7_row18_col1\" class=\"data row18 col1\" >-1</td>\n",
       "    </tr>\n",
       "    <tr>\n",
       "      <th id=\"T_e9bc7_level0_row19\" class=\"row_heading level0 row19\" >19</th>\n",
       "      <td id=\"T_e9bc7_row19_col0\" class=\"data row19 col0\" >Use GPU</td>\n",
       "      <td id=\"T_e9bc7_row19_col1\" class=\"data row19 col1\" >False</td>\n",
       "    </tr>\n",
       "    <tr>\n",
       "      <th id=\"T_e9bc7_level0_row20\" class=\"row_heading level0 row20\" >20</th>\n",
       "      <td id=\"T_e9bc7_row20_col0\" class=\"data row20 col0\" >Log Experiment</td>\n",
       "      <td id=\"T_e9bc7_row20_col1\" class=\"data row20 col1\" >False</td>\n",
       "    </tr>\n",
       "    <tr>\n",
       "      <th id=\"T_e9bc7_level0_row21\" class=\"row_heading level0 row21\" >21</th>\n",
       "      <td id=\"T_e9bc7_row21_col0\" class=\"data row21 col0\" >Experiment Name</td>\n",
       "      <td id=\"T_e9bc7_row21_col1\" class=\"data row21 col1\" >clf-default-name</td>\n",
       "    </tr>\n",
       "    <tr>\n",
       "      <th id=\"T_e9bc7_level0_row22\" class=\"row_heading level0 row22\" >22</th>\n",
       "      <td id=\"T_e9bc7_row22_col0\" class=\"data row22 col0\" >USI</td>\n",
       "      <td id=\"T_e9bc7_row22_col1\" class=\"data row22 col1\" >d089</td>\n",
       "    </tr>\n",
       "  </tbody>\n",
       "</table>\n"
      ],
      "text/plain": [
       "<pandas.io.formats.style.Styler at 0x7f117314e200>"
      ]
     },
     "metadata": {},
     "output_type": "display_data"
    }
   ],
   "source": [
    "# Initialize setup\n",
    "s = setup(data, target = 'is_Manager')"
   ]
  },
  {
   "cell_type": "code",
   "execution_count": 5,
   "id": "266ebba4-40f3-44b5-825b-38e3bdd9fa92",
   "metadata": {},
   "outputs": [
    {
     "data": {
      "text/html": [],
      "text/plain": [
       "<IPython.core.display.HTML object>"
      ]
     },
     "metadata": {},
     "output_type": "display_data"
    },
    {
     "data": {
      "text/html": [
       "<style type=\"text/css\">\n",
       "#T_12d92 th {\n",
       "  text-align: left;\n",
       "}\n",
       "#T_12d92_row0_col0, #T_12d92_row0_col2, #T_12d92_row0_col3, #T_12d92_row0_col4, #T_12d92_row0_col5, #T_12d92_row0_col6, #T_12d92_row1_col0, #T_12d92_row1_col1, #T_12d92_row1_col2, #T_12d92_row1_col3, #T_12d92_row1_col4, #T_12d92_row1_col5, #T_12d92_row1_col6, #T_12d92_row1_col7, #T_12d92_row2_col0, #T_12d92_row2_col1, #T_12d92_row2_col2, #T_12d92_row2_col3, #T_12d92_row2_col4, #T_12d92_row2_col5, #T_12d92_row2_col6, #T_12d92_row2_col7, #T_12d92_row3_col0, #T_12d92_row3_col1, #T_12d92_row3_col2, #T_12d92_row3_col6, #T_12d92_row4_col0, #T_12d92_row4_col1, #T_12d92_row4_col2, #T_12d92_row4_col3, #T_12d92_row4_col4, #T_12d92_row4_col5, #T_12d92_row4_col6, #T_12d92_row4_col7, #T_12d92_row5_col0, #T_12d92_row5_col1, #T_12d92_row5_col2, #T_12d92_row5_col3, #T_12d92_row5_col4, #T_12d92_row5_col5, #T_12d92_row5_col6, #T_12d92_row5_col7, #T_12d92_row6_col0, #T_12d92_row6_col1, #T_12d92_row6_col2, #T_12d92_row6_col3, #T_12d92_row6_col4, #T_12d92_row6_col5, #T_12d92_row6_col6, #T_12d92_row6_col7, #T_12d92_row7_col0, #T_12d92_row7_col1, #T_12d92_row7_col3, #T_12d92_row7_col4, #T_12d92_row7_col5, #T_12d92_row7_col6, #T_12d92_row7_col7, #T_12d92_row8_col0, #T_12d92_row8_col1, #T_12d92_row8_col2, #T_12d92_row8_col3, #T_12d92_row8_col4, #T_12d92_row8_col5, #T_12d92_row8_col6, #T_12d92_row8_col7, #T_12d92_row9_col0, #T_12d92_row9_col1, #T_12d92_row9_col2, #T_12d92_row9_col3, #T_12d92_row9_col4, #T_12d92_row9_col5, #T_12d92_row9_col6, #T_12d92_row9_col7, #T_12d92_row10_col0, #T_12d92_row10_col1, #T_12d92_row10_col2, #T_12d92_row10_col3, #T_12d92_row10_col4, #T_12d92_row10_col5, #T_12d92_row10_col6, #T_12d92_row10_col7, #T_12d92_row11_col0, #T_12d92_row11_col1, #T_12d92_row11_col2, #T_12d92_row11_col3, #T_12d92_row11_col4, #T_12d92_row11_col5, #T_12d92_row11_col6, #T_12d92_row11_col7, #T_12d92_row12_col0, #T_12d92_row12_col1, #T_12d92_row12_col2, #T_12d92_row12_col3, #T_12d92_row12_col4, #T_12d92_row12_col5, #T_12d92_row12_col6, #T_12d92_row12_col7, #T_12d92_row13_col0, #T_12d92_row13_col1, #T_12d92_row13_col2, #T_12d92_row13_col3, #T_12d92_row13_col4, #T_12d92_row13_col5, #T_12d92_row13_col7 {\n",
       "  text-align: left;\n",
       "}\n",
       "#T_12d92_row0_col1, #T_12d92_row0_col7, #T_12d92_row3_col3, #T_12d92_row3_col4, #T_12d92_row3_col5, #T_12d92_row3_col7, #T_12d92_row7_col2, #T_12d92_row13_col6 {\n",
       "  text-align: left;\n",
       "  background-color: yellow;\n",
       "}\n",
       "#T_12d92_row0_col8, #T_12d92_row1_col8, #T_12d92_row2_col8, #T_12d92_row3_col8, #T_12d92_row4_col8, #T_12d92_row5_col8, #T_12d92_row6_col8, #T_12d92_row8_col8, #T_12d92_row9_col8, #T_12d92_row10_col8, #T_12d92_row11_col8, #T_12d92_row12_col8, #T_12d92_row13_col8 {\n",
       "  text-align: left;\n",
       "  background-color: lightgrey;\n",
       "}\n",
       "#T_12d92_row7_col8 {\n",
       "  text-align: left;\n",
       "  background-color: yellow;\n",
       "  background-color: lightgrey;\n",
       "}\n",
       "</style>\n",
       "<table id=\"T_12d92\">\n",
       "  <thead>\n",
       "    <tr>\n",
       "      <th class=\"blank level0\" >&nbsp;</th>\n",
       "      <th id=\"T_12d92_level0_col0\" class=\"col_heading level0 col0\" >Model</th>\n",
       "      <th id=\"T_12d92_level0_col1\" class=\"col_heading level0 col1\" >Accuracy</th>\n",
       "      <th id=\"T_12d92_level0_col2\" class=\"col_heading level0 col2\" >AUC</th>\n",
       "      <th id=\"T_12d92_level0_col3\" class=\"col_heading level0 col3\" >Recall</th>\n",
       "      <th id=\"T_12d92_level0_col4\" class=\"col_heading level0 col4\" >Prec.</th>\n",
       "      <th id=\"T_12d92_level0_col5\" class=\"col_heading level0 col5\" >F1</th>\n",
       "      <th id=\"T_12d92_level0_col6\" class=\"col_heading level0 col6\" >Kappa</th>\n",
       "      <th id=\"T_12d92_level0_col7\" class=\"col_heading level0 col7\" >MCC</th>\n",
       "      <th id=\"T_12d92_level0_col8\" class=\"col_heading level0 col8\" >TT (Sec)</th>\n",
       "    </tr>\n",
       "  </thead>\n",
       "  <tbody>\n",
       "    <tr>\n",
       "      <th id=\"T_12d92_level0_row0\" class=\"row_heading level0 row0\" >ridge</th>\n",
       "      <td id=\"T_12d92_row0_col0\" class=\"data row0 col0\" >Ridge Classifier</td>\n",
       "      <td id=\"T_12d92_row0_col1\" class=\"data row0 col1\" >0.8000</td>\n",
       "      <td id=\"T_12d92_row0_col2\" class=\"data row0 col2\" >0.0000</td>\n",
       "      <td id=\"T_12d92_row0_col3\" class=\"data row0 col3\" >0.5000</td>\n",
       "      <td id=\"T_12d92_row0_col4\" class=\"data row0 col4\" >0.4000</td>\n",
       "      <td id=\"T_12d92_row0_col5\" class=\"data row0 col5\" >0.4333</td>\n",
       "      <td id=\"T_12d92_row0_col6\" class=\"data row0 col6\" >nan</td>\n",
       "      <td id=\"T_12d92_row0_col7\" class=\"data row0 col7\" >0.3000</td>\n",
       "      <td id=\"T_12d92_row0_col8\" class=\"data row0 col8\" >0.2250</td>\n",
       "    </tr>\n",
       "    <tr>\n",
       "      <th id=\"T_12d92_level0_row1\" class=\"row_heading level0 row1\" >rf</th>\n",
       "      <td id=\"T_12d92_row1_col0\" class=\"data row1 col0\" >Random Forest Classifier</td>\n",
       "      <td id=\"T_12d92_row1_col1\" class=\"data row1 col1\" >0.7500</td>\n",
       "      <td id=\"T_12d92_row1_col2\" class=\"data row1 col2\" >0.4500</td>\n",
       "      <td id=\"T_12d92_row1_col3\" class=\"data row1 col3\" >0.3000</td>\n",
       "      <td id=\"T_12d92_row1_col4\" class=\"data row1 col4\" >0.3000</td>\n",
       "      <td id=\"T_12d92_row1_col5\" class=\"data row1 col5\" >0.3000</td>\n",
       "      <td id=\"T_12d92_row1_col6\" class=\"data row1 col6\" >nan</td>\n",
       "      <td id=\"T_12d92_row1_col7\" class=\"data row1 col7\" >0.2000</td>\n",
       "      <td id=\"T_12d92_row1_col8\" class=\"data row1 col8\" >0.7420</td>\n",
       "    </tr>\n",
       "    <tr>\n",
       "      <th id=\"T_12d92_level0_row2\" class=\"row_heading level0 row2\" >dt</th>\n",
       "      <td id=\"T_12d92_row2_col0\" class=\"data row2 col0\" >Decision Tree Classifier</td>\n",
       "      <td id=\"T_12d92_row2_col1\" class=\"data row2 col1\" >0.7000</td>\n",
       "      <td id=\"T_12d92_row2_col2\" class=\"data row2 col2\" >0.4000</td>\n",
       "      <td id=\"T_12d92_row2_col3\" class=\"data row2 col3\" >0.3000</td>\n",
       "      <td id=\"T_12d92_row2_col4\" class=\"data row2 col4\" >0.2500</td>\n",
       "      <td id=\"T_12d92_row2_col5\" class=\"data row2 col5\" >0.2667</td>\n",
       "      <td id=\"T_12d92_row2_col6\" class=\"data row2 col6\" >nan</td>\n",
       "      <td id=\"T_12d92_row2_col7\" class=\"data row2 col7\" >0.1000</td>\n",
       "      <td id=\"T_12d92_row2_col8\" class=\"data row2 col8\" >0.1670</td>\n",
       "    </tr>\n",
       "    <tr>\n",
       "      <th id=\"T_12d92_level0_row3\" class=\"row_heading level0 row3\" >qda</th>\n",
       "      <td id=\"T_12d92_row3_col0\" class=\"data row3 col0\" >Quadratic Discriminant Analysis</td>\n",
       "      <td id=\"T_12d92_row3_col1\" class=\"data row3 col1\" >0.7000</td>\n",
       "      <td id=\"T_12d92_row3_col2\" class=\"data row3 col2\" >0.5000</td>\n",
       "      <td id=\"T_12d92_row3_col3\" class=\"data row3 col3\" >0.6000</td>\n",
       "      <td id=\"T_12d92_row3_col4\" class=\"data row3 col4\" >0.4500</td>\n",
       "      <td id=\"T_12d92_row3_col5\" class=\"data row3 col5\" >0.5000</td>\n",
       "      <td id=\"T_12d92_row3_col6\" class=\"data row3 col6\" >nan</td>\n",
       "      <td id=\"T_12d92_row3_col7\" class=\"data row3 col7\" >0.3000</td>\n",
       "      <td id=\"T_12d92_row3_col8\" class=\"data row3 col8\" >0.2910</td>\n",
       "    </tr>\n",
       "    <tr>\n",
       "      <th id=\"T_12d92_level0_row4\" class=\"row_heading level0 row4\" >gbc</th>\n",
       "      <td id=\"T_12d92_row4_col0\" class=\"data row4 col0\" >Gradient Boosting Classifier</td>\n",
       "      <td id=\"T_12d92_row4_col1\" class=\"data row4 col1\" >0.7000</td>\n",
       "      <td id=\"T_12d92_row4_col2\" class=\"data row4 col2\" >0.4500</td>\n",
       "      <td id=\"T_12d92_row4_col3\" class=\"data row4 col3\" >0.3000</td>\n",
       "      <td id=\"T_12d92_row4_col4\" class=\"data row4 col4\" >0.2500</td>\n",
       "      <td id=\"T_12d92_row4_col5\" class=\"data row4 col5\" >0.2667</td>\n",
       "      <td id=\"T_12d92_row4_col6\" class=\"data row4 col6\" >nan</td>\n",
       "      <td id=\"T_12d92_row4_col7\" class=\"data row4 col7\" >0.1000</td>\n",
       "      <td id=\"T_12d92_row4_col8\" class=\"data row4 col8\" >0.4140</td>\n",
       "    </tr>\n",
       "    <tr>\n",
       "      <th id=\"T_12d92_level0_row5\" class=\"row_heading level0 row5\" >lr</th>\n",
       "      <td id=\"T_12d92_row5_col0\" class=\"data row5 col0\" >Logistic Regression</td>\n",
       "      <td id=\"T_12d92_row5_col1\" class=\"data row5 col1\" >0.6500</td>\n",
       "      <td id=\"T_12d92_row5_col2\" class=\"data row5 col2\" >0.5000</td>\n",
       "      <td id=\"T_12d92_row5_col3\" class=\"data row5 col3\" >0.0000</td>\n",
       "      <td id=\"T_12d92_row5_col4\" class=\"data row5 col4\" >0.0000</td>\n",
       "      <td id=\"T_12d92_row5_col5\" class=\"data row5 col5\" >0.0000</td>\n",
       "      <td id=\"T_12d92_row5_col6\" class=\"data row5 col6\" >nan</td>\n",
       "      <td id=\"T_12d92_row5_col7\" class=\"data row5 col7\" >0.0000</td>\n",
       "      <td id=\"T_12d92_row5_col8\" class=\"data row5 col8\" >0.5430</td>\n",
       "    </tr>\n",
       "    <tr>\n",
       "      <th id=\"T_12d92_level0_row6\" class=\"row_heading level0 row6\" >knn</th>\n",
       "      <td id=\"T_12d92_row6_col0\" class=\"data row6 col0\" >K Neighbors Classifier</td>\n",
       "      <td id=\"T_12d92_row6_col1\" class=\"data row6 col1\" >0.6500</td>\n",
       "      <td id=\"T_12d92_row6_col2\" class=\"data row6 col2\" >0.2000</td>\n",
       "      <td id=\"T_12d92_row6_col3\" class=\"data row6 col3\" >0.0000</td>\n",
       "      <td id=\"T_12d92_row6_col4\" class=\"data row6 col4\" >0.0000</td>\n",
       "      <td id=\"T_12d92_row6_col5\" class=\"data row6 col5\" >0.0000</td>\n",
       "      <td id=\"T_12d92_row6_col6\" class=\"data row6 col6\" >nan</td>\n",
       "      <td id=\"T_12d92_row6_col7\" class=\"data row6 col7\" >0.0000</td>\n",
       "      <td id=\"T_12d92_row6_col8\" class=\"data row6 col8\" >0.1630</td>\n",
       "    </tr>\n",
       "    <tr>\n",
       "      <th id=\"T_12d92_level0_row7\" class=\"row_heading level0 row7\" >nb</th>\n",
       "      <td id=\"T_12d92_row7_col0\" class=\"data row7 col0\" >Naive Bayes</td>\n",
       "      <td id=\"T_12d92_row7_col1\" class=\"data row7 col1\" >0.6500</td>\n",
       "      <td id=\"T_12d92_row7_col2\" class=\"data row7 col2\" >0.7000</td>\n",
       "      <td id=\"T_12d92_row7_col3\" class=\"data row7 col3\" >0.0000</td>\n",
       "      <td id=\"T_12d92_row7_col4\" class=\"data row7 col4\" >0.0000</td>\n",
       "      <td id=\"T_12d92_row7_col5\" class=\"data row7 col5\" >0.0000</td>\n",
       "      <td id=\"T_12d92_row7_col6\" class=\"data row7 col6\" >nan</td>\n",
       "      <td id=\"T_12d92_row7_col7\" class=\"data row7 col7\" >0.0000</td>\n",
       "      <td id=\"T_12d92_row7_col8\" class=\"data row7 col8\" >0.1510</td>\n",
       "    </tr>\n",
       "    <tr>\n",
       "      <th id=\"T_12d92_level0_row8\" class=\"row_heading level0 row8\" >ada</th>\n",
       "      <td id=\"T_12d92_row8_col0\" class=\"data row8 col0\" >Ada Boost Classifier</td>\n",
       "      <td id=\"T_12d92_row8_col1\" class=\"data row8 col1\" >0.6500</td>\n",
       "      <td id=\"T_12d92_row8_col2\" class=\"data row8 col2\" >0.5500</td>\n",
       "      <td id=\"T_12d92_row8_col3\" class=\"data row8 col3\" >0.4000</td>\n",
       "      <td id=\"T_12d92_row8_col4\" class=\"data row8 col4\" >0.3500</td>\n",
       "      <td id=\"T_12d92_row8_col5\" class=\"data row8 col5\" >0.3667</td>\n",
       "      <td id=\"T_12d92_row8_col6\" class=\"data row8 col6\" >nan</td>\n",
       "      <td id=\"T_12d92_row8_col7\" class=\"data row8 col7\" >0.2000</td>\n",
       "      <td id=\"T_12d92_row8_col8\" class=\"data row8 col8\" >0.4210</td>\n",
       "    </tr>\n",
       "    <tr>\n",
       "      <th id=\"T_12d92_level0_row9\" class=\"row_heading level0 row9\" >lightgbm</th>\n",
       "      <td id=\"T_12d92_row9_col0\" class=\"data row9 col0\" >Light Gradient Boosting Machine</td>\n",
       "      <td id=\"T_12d92_row9_col1\" class=\"data row9 col1\" >0.6500</td>\n",
       "      <td id=\"T_12d92_row9_col2\" class=\"data row9 col2\" >0.3500</td>\n",
       "      <td id=\"T_12d92_row9_col3\" class=\"data row9 col3\" >0.0000</td>\n",
       "      <td id=\"T_12d92_row9_col4\" class=\"data row9 col4\" >0.0000</td>\n",
       "      <td id=\"T_12d92_row9_col5\" class=\"data row9 col5\" >0.0000</td>\n",
       "      <td id=\"T_12d92_row9_col6\" class=\"data row9 col6\" >nan</td>\n",
       "      <td id=\"T_12d92_row9_col7\" class=\"data row9 col7\" >0.0000</td>\n",
       "      <td id=\"T_12d92_row9_col8\" class=\"data row9 col8\" >0.8020</td>\n",
       "    </tr>\n",
       "    <tr>\n",
       "      <th id=\"T_12d92_level0_row10\" class=\"row_heading level0 row10\" >dummy</th>\n",
       "      <td id=\"T_12d92_row10_col0\" class=\"data row10 col0\" >Dummy Classifier</td>\n",
       "      <td id=\"T_12d92_row10_col1\" class=\"data row10 col1\" >0.6500</td>\n",
       "      <td id=\"T_12d92_row10_col2\" class=\"data row10 col2\" >0.3500</td>\n",
       "      <td id=\"T_12d92_row10_col3\" class=\"data row10 col3\" >0.0000</td>\n",
       "      <td id=\"T_12d92_row10_col4\" class=\"data row10 col4\" >0.0000</td>\n",
       "      <td id=\"T_12d92_row10_col5\" class=\"data row10 col5\" >0.0000</td>\n",
       "      <td id=\"T_12d92_row10_col6\" class=\"data row10 col6\" >nan</td>\n",
       "      <td id=\"T_12d92_row10_col7\" class=\"data row10 col7\" >0.0000</td>\n",
       "      <td id=\"T_12d92_row10_col8\" class=\"data row10 col8\" >0.2040</td>\n",
       "    </tr>\n",
       "    <tr>\n",
       "      <th id=\"T_12d92_level0_row11\" class=\"row_heading level0 row11\" >et</th>\n",
       "      <td id=\"T_12d92_row11_col0\" class=\"data row11 col0\" >Extra Trees Classifier</td>\n",
       "      <td id=\"T_12d92_row11_col1\" class=\"data row11 col1\" >0.5000</td>\n",
       "      <td id=\"T_12d92_row11_col2\" class=\"data row11 col2\" >0.6000</td>\n",
       "      <td id=\"T_12d92_row11_col3\" class=\"data row11 col3\" >0.0000</td>\n",
       "      <td id=\"T_12d92_row11_col4\" class=\"data row11 col4\" >0.0000</td>\n",
       "      <td id=\"T_12d92_row11_col5\" class=\"data row11 col5\" >0.0000</td>\n",
       "      <td id=\"T_12d92_row11_col6\" class=\"data row11 col6\" >nan</td>\n",
       "      <td id=\"T_12d92_row11_col7\" class=\"data row11 col7\" >-0.1000</td>\n",
       "      <td id=\"T_12d92_row11_col8\" class=\"data row11 col8\" >0.6310</td>\n",
       "    </tr>\n",
       "    <tr>\n",
       "      <th id=\"T_12d92_level0_row12\" class=\"row_heading level0 row12\" >lda</th>\n",
       "      <td id=\"T_12d92_row12_col0\" class=\"data row12 col0\" >Linear Discriminant Analysis</td>\n",
       "      <td id=\"T_12d92_row12_col1\" class=\"data row12 col1\" >0.4000</td>\n",
       "      <td id=\"T_12d92_row12_col2\" class=\"data row12 col2\" >0.2500</td>\n",
       "      <td id=\"T_12d92_row12_col3\" class=\"data row12 col3\" >0.2000</td>\n",
       "      <td id=\"T_12d92_row12_col4\" class=\"data row12 col4\" >0.1000</td>\n",
       "      <td id=\"T_12d92_row12_col5\" class=\"data row12 col5\" >0.1333</td>\n",
       "      <td id=\"T_12d92_row12_col6\" class=\"data row12 col6\" >nan</td>\n",
       "      <td id=\"T_12d92_row12_col7\" class=\"data row12 col7\" >-0.3000</td>\n",
       "      <td id=\"T_12d92_row12_col8\" class=\"data row12 col8\" >0.2240</td>\n",
       "    </tr>\n",
       "    <tr>\n",
       "      <th id=\"T_12d92_level0_row13\" class=\"row_heading level0 row13\" >svm</th>\n",
       "      <td id=\"T_12d92_row13_col0\" class=\"data row13 col0\" >SVM - Linear Kernel</td>\n",
       "      <td id=\"T_12d92_row13_col1\" class=\"data row13 col1\" >0.3500</td>\n",
       "      <td id=\"T_12d92_row13_col2\" class=\"data row13 col2\" >0.0000</td>\n",
       "      <td id=\"T_12d92_row13_col3\" class=\"data row13 col3\" >0.0000</td>\n",
       "      <td id=\"T_12d92_row13_col4\" class=\"data row13 col4\" >0.0000</td>\n",
       "      <td id=\"T_12d92_row13_col5\" class=\"data row13 col5\" >0.0000</td>\n",
       "      <td id=\"T_12d92_row13_col6\" class=\"data row13 col6\" >0.0000</td>\n",
       "      <td id=\"T_12d92_row13_col7\" class=\"data row13 col7\" >0.0000</td>\n",
       "      <td id=\"T_12d92_row13_col8\" class=\"data row13 col8\" >0.2350</td>\n",
       "    </tr>\n",
       "  </tbody>\n",
       "</table>\n"
      ],
      "text/plain": [
       "<pandas.io.formats.style.Styler at 0x7f11be088970>"
      ]
     },
     "metadata": {},
     "output_type": "display_data"
    },
    {
     "data": {
      "text/html": [],
      "text/plain": [
       "<IPython.core.display.HTML object>"
      ]
     },
     "metadata": {},
     "output_type": "display_data"
    }
   ],
   "source": [
    "# Compare models\n",
    "best_model = compare_models()"
   ]
  },
  {
   "cell_type": "code",
   "execution_count": 6,
   "id": "9c8be12c-4b04-4a96-ac31-6f96fbee719e",
   "metadata": {},
   "outputs": [
    {
     "data": {
      "text/html": [],
      "text/plain": [
       "<IPython.core.display.HTML object>"
      ]
     },
     "metadata": {},
     "output_type": "display_data"
    },
    {
     "data": {
      "text/html": [
       "<style type=\"text/css\">\n",
       "#T_8cf20_row10_col0, #T_8cf20_row10_col1, #T_8cf20_row10_col2, #T_8cf20_row10_col3, #T_8cf20_row10_col4, #T_8cf20_row10_col5, #T_8cf20_row10_col6 {\n",
       "  background: yellow;\n",
       "}\n",
       "</style>\n",
       "<table id=\"T_8cf20\">\n",
       "  <thead>\n",
       "    <tr>\n",
       "      <th class=\"blank level0\" >&nbsp;</th>\n",
       "      <th id=\"T_8cf20_level0_col0\" class=\"col_heading level0 col0\" >Accuracy</th>\n",
       "      <th id=\"T_8cf20_level0_col1\" class=\"col_heading level0 col1\" >AUC</th>\n",
       "      <th id=\"T_8cf20_level0_col2\" class=\"col_heading level0 col2\" >Recall</th>\n",
       "      <th id=\"T_8cf20_level0_col3\" class=\"col_heading level0 col3\" >Prec.</th>\n",
       "      <th id=\"T_8cf20_level0_col4\" class=\"col_heading level0 col4\" >F1</th>\n",
       "      <th id=\"T_8cf20_level0_col5\" class=\"col_heading level0 col5\" >Kappa</th>\n",
       "      <th id=\"T_8cf20_level0_col6\" class=\"col_heading level0 col6\" >MCC</th>\n",
       "    </tr>\n",
       "    <tr>\n",
       "      <th class=\"index_name level0\" >Fold</th>\n",
       "      <th class=\"blank col0\" >&nbsp;</th>\n",
       "      <th class=\"blank col1\" >&nbsp;</th>\n",
       "      <th class=\"blank col2\" >&nbsp;</th>\n",
       "      <th class=\"blank col3\" >&nbsp;</th>\n",
       "      <th class=\"blank col4\" >&nbsp;</th>\n",
       "      <th class=\"blank col5\" >&nbsp;</th>\n",
       "      <th class=\"blank col6\" >&nbsp;</th>\n",
       "    </tr>\n",
       "  </thead>\n",
       "  <tbody>\n",
       "    <tr>\n",
       "      <th id=\"T_8cf20_level0_row0\" class=\"row_heading level0 row0\" >0</th>\n",
       "      <td id=\"T_8cf20_row0_col0\" class=\"data row0 col0\" >1.0000</td>\n",
       "      <td id=\"T_8cf20_row0_col1\" class=\"data row0 col1\" >1.0000</td>\n",
       "      <td id=\"T_8cf20_row0_col2\" class=\"data row0 col2\" >1.0000</td>\n",
       "      <td id=\"T_8cf20_row0_col3\" class=\"data row0 col3\" >1.0000</td>\n",
       "      <td id=\"T_8cf20_row0_col4\" class=\"data row0 col4\" >1.0000</td>\n",
       "      <td id=\"T_8cf20_row0_col5\" class=\"data row0 col5\" >1.0000</td>\n",
       "      <td id=\"T_8cf20_row0_col6\" class=\"data row0 col6\" >1.0000</td>\n",
       "    </tr>\n",
       "    <tr>\n",
       "      <th id=\"T_8cf20_level0_row1\" class=\"row_heading level0 row1\" >1</th>\n",
       "      <td id=\"T_8cf20_row1_col0\" class=\"data row1 col0\" >1.0000</td>\n",
       "      <td id=\"T_8cf20_row1_col1\" class=\"data row1 col1\" >1.0000</td>\n",
       "      <td id=\"T_8cf20_row1_col2\" class=\"data row1 col2\" >1.0000</td>\n",
       "      <td id=\"T_8cf20_row1_col3\" class=\"data row1 col3\" >1.0000</td>\n",
       "      <td id=\"T_8cf20_row1_col4\" class=\"data row1 col4\" >1.0000</td>\n",
       "      <td id=\"T_8cf20_row1_col5\" class=\"data row1 col5\" >1.0000</td>\n",
       "      <td id=\"T_8cf20_row1_col6\" class=\"data row1 col6\" >1.0000</td>\n",
       "    </tr>\n",
       "    <tr>\n",
       "      <th id=\"T_8cf20_level0_row2\" class=\"row_heading level0 row2\" >2</th>\n",
       "      <td id=\"T_8cf20_row2_col0\" class=\"data row2 col0\" >0.5000</td>\n",
       "      <td id=\"T_8cf20_row2_col1\" class=\"data row2 col1\" >0.5000</td>\n",
       "      <td id=\"T_8cf20_row2_col2\" class=\"data row2 col2\" >0.0000</td>\n",
       "      <td id=\"T_8cf20_row2_col3\" class=\"data row2 col3\" >0.0000</td>\n",
       "      <td id=\"T_8cf20_row2_col4\" class=\"data row2 col4\" >0.0000</td>\n",
       "      <td id=\"T_8cf20_row2_col5\" class=\"data row2 col5\" >0.0000</td>\n",
       "      <td id=\"T_8cf20_row2_col6\" class=\"data row2 col6\" >0.0000</td>\n",
       "    </tr>\n",
       "    <tr>\n",
       "      <th id=\"T_8cf20_level0_row3\" class=\"row_heading level0 row3\" >3</th>\n",
       "      <td id=\"T_8cf20_row3_col0\" class=\"data row3 col0\" >1.0000</td>\n",
       "      <td id=\"T_8cf20_row3_col1\" class=\"data row3 col1\" >1.0000</td>\n",
       "      <td id=\"T_8cf20_row3_col2\" class=\"data row3 col2\" >1.0000</td>\n",
       "      <td id=\"T_8cf20_row3_col3\" class=\"data row3 col3\" >1.0000</td>\n",
       "      <td id=\"T_8cf20_row3_col4\" class=\"data row3 col4\" >1.0000</td>\n",
       "      <td id=\"T_8cf20_row3_col5\" class=\"data row3 col5\" >1.0000</td>\n",
       "      <td id=\"T_8cf20_row3_col6\" class=\"data row3 col6\" >1.0000</td>\n",
       "    </tr>\n",
       "    <tr>\n",
       "      <th id=\"T_8cf20_level0_row4\" class=\"row_heading level0 row4\" >4</th>\n",
       "      <td id=\"T_8cf20_row4_col0\" class=\"data row4 col0\" >0.5000</td>\n",
       "      <td id=\"T_8cf20_row4_col1\" class=\"data row4 col1\" >0.0000</td>\n",
       "      <td id=\"T_8cf20_row4_col2\" class=\"data row4 col2\" >0.0000</td>\n",
       "      <td id=\"T_8cf20_row4_col3\" class=\"data row4 col3\" >0.0000</td>\n",
       "      <td id=\"T_8cf20_row4_col4\" class=\"data row4 col4\" >0.0000</td>\n",
       "      <td id=\"T_8cf20_row4_col5\" class=\"data row4 col5\" >0.0000</td>\n",
       "      <td id=\"T_8cf20_row4_col6\" class=\"data row4 col6\" >0.0000</td>\n",
       "    </tr>\n",
       "    <tr>\n",
       "      <th id=\"T_8cf20_level0_row5\" class=\"row_heading level0 row5\" >5</th>\n",
       "      <td id=\"T_8cf20_row5_col0\" class=\"data row5 col0\" >0.0000</td>\n",
       "      <td id=\"T_8cf20_row5_col1\" class=\"data row5 col1\" >0.0000</td>\n",
       "      <td id=\"T_8cf20_row5_col2\" class=\"data row5 col2\" >0.0000</td>\n",
       "      <td id=\"T_8cf20_row5_col3\" class=\"data row5 col3\" >0.0000</td>\n",
       "      <td id=\"T_8cf20_row5_col4\" class=\"data row5 col4\" >0.0000</td>\n",
       "      <td id=\"T_8cf20_row5_col5\" class=\"data row5 col5\" >-1.0000</td>\n",
       "      <td id=\"T_8cf20_row5_col6\" class=\"data row5 col6\" >-1.0000</td>\n",
       "    </tr>\n",
       "    <tr>\n",
       "      <th id=\"T_8cf20_level0_row6\" class=\"row_heading level0 row6\" >6</th>\n",
       "      <td id=\"T_8cf20_row6_col0\" class=\"data row6 col0\" >0.5000</td>\n",
       "      <td id=\"T_8cf20_row6_col1\" class=\"data row6 col1\" >1.0000</td>\n",
       "      <td id=\"T_8cf20_row6_col2\" class=\"data row6 col2\" >0.0000</td>\n",
       "      <td id=\"T_8cf20_row6_col3\" class=\"data row6 col3\" >0.0000</td>\n",
       "      <td id=\"T_8cf20_row6_col4\" class=\"data row6 col4\" >0.0000</td>\n",
       "      <td id=\"T_8cf20_row6_col5\" class=\"data row6 col5\" >0.0000</td>\n",
       "      <td id=\"T_8cf20_row6_col6\" class=\"data row6 col6\" >0.0000</td>\n",
       "    </tr>\n",
       "    <tr>\n",
       "      <th id=\"T_8cf20_level0_row7\" class=\"row_heading level0 row7\" >7</th>\n",
       "      <td id=\"T_8cf20_row7_col0\" class=\"data row7 col0\" >1.0000</td>\n",
       "      <td id=\"T_8cf20_row7_col1\" class=\"data row7 col1\" >0.0000</td>\n",
       "      <td id=\"T_8cf20_row7_col2\" class=\"data row7 col2\" >0.0000</td>\n",
       "      <td id=\"T_8cf20_row7_col3\" class=\"data row7 col3\" >0.0000</td>\n",
       "      <td id=\"T_8cf20_row7_col4\" class=\"data row7 col4\" >0.0000</td>\n",
       "      <td id=\"T_8cf20_row7_col5\" class=\"data row7 col5\" >nan</td>\n",
       "      <td id=\"T_8cf20_row7_col6\" class=\"data row7 col6\" >0.0000</td>\n",
       "    </tr>\n",
       "    <tr>\n",
       "      <th id=\"T_8cf20_level0_row8\" class=\"row_heading level0 row8\" >8</th>\n",
       "      <td id=\"T_8cf20_row8_col0\" class=\"data row8 col0\" >1.0000</td>\n",
       "      <td id=\"T_8cf20_row8_col1\" class=\"data row8 col1\" >0.0000</td>\n",
       "      <td id=\"T_8cf20_row8_col2\" class=\"data row8 col2\" >0.0000</td>\n",
       "      <td id=\"T_8cf20_row8_col3\" class=\"data row8 col3\" >0.0000</td>\n",
       "      <td id=\"T_8cf20_row8_col4\" class=\"data row8 col4\" >0.0000</td>\n",
       "      <td id=\"T_8cf20_row8_col5\" class=\"data row8 col5\" >nan</td>\n",
       "      <td id=\"T_8cf20_row8_col6\" class=\"data row8 col6\" >0.0000</td>\n",
       "    </tr>\n",
       "    <tr>\n",
       "      <th id=\"T_8cf20_level0_row9\" class=\"row_heading level0 row9\" >9</th>\n",
       "      <td id=\"T_8cf20_row9_col0\" class=\"data row9 col0\" >1.0000</td>\n",
       "      <td id=\"T_8cf20_row9_col1\" class=\"data row9 col1\" >0.0000</td>\n",
       "      <td id=\"T_8cf20_row9_col2\" class=\"data row9 col2\" >0.0000</td>\n",
       "      <td id=\"T_8cf20_row9_col3\" class=\"data row9 col3\" >0.0000</td>\n",
       "      <td id=\"T_8cf20_row9_col4\" class=\"data row9 col4\" >0.0000</td>\n",
       "      <td id=\"T_8cf20_row9_col5\" class=\"data row9 col5\" >nan</td>\n",
       "      <td id=\"T_8cf20_row9_col6\" class=\"data row9 col6\" >0.0000</td>\n",
       "    </tr>\n",
       "    <tr>\n",
       "      <th id=\"T_8cf20_level0_row10\" class=\"row_heading level0 row10\" >Mean</th>\n",
       "      <td id=\"T_8cf20_row10_col0\" class=\"data row10 col0\" >0.7500</td>\n",
       "      <td id=\"T_8cf20_row10_col1\" class=\"data row10 col1\" >0.4500</td>\n",
       "      <td id=\"T_8cf20_row10_col2\" class=\"data row10 col2\" >0.3000</td>\n",
       "      <td id=\"T_8cf20_row10_col3\" class=\"data row10 col3\" >0.3000</td>\n",
       "      <td id=\"T_8cf20_row10_col4\" class=\"data row10 col4\" >0.3000</td>\n",
       "      <td id=\"T_8cf20_row10_col5\" class=\"data row10 col5\" >nan</td>\n",
       "      <td id=\"T_8cf20_row10_col6\" class=\"data row10 col6\" >0.2000</td>\n",
       "    </tr>\n",
       "    <tr>\n",
       "      <th id=\"T_8cf20_level0_row11\" class=\"row_heading level0 row11\" >Std</th>\n",
       "      <td id=\"T_8cf20_row11_col0\" class=\"data row11 col0\" >0.3354</td>\n",
       "      <td id=\"T_8cf20_row11_col1\" class=\"data row11 col1\" >0.4717</td>\n",
       "      <td id=\"T_8cf20_row11_col2\" class=\"data row11 col2\" >0.4583</td>\n",
       "      <td id=\"T_8cf20_row11_col3\" class=\"data row11 col3\" >0.4583</td>\n",
       "      <td id=\"T_8cf20_row11_col4\" class=\"data row11 col4\" >0.4583</td>\n",
       "      <td id=\"T_8cf20_row11_col5\" class=\"data row11 col5\" >nan</td>\n",
       "      <td id=\"T_8cf20_row11_col6\" class=\"data row11 col6\" >0.6000</td>\n",
       "    </tr>\n",
       "  </tbody>\n",
       "</table>\n"
      ],
      "text/plain": [
       "<pandas.io.formats.style.Styler at 0x7f1178088040>"
      ]
     },
     "metadata": {},
     "output_type": "display_data"
    },
    {
     "data": {
      "text/html": [],
      "text/plain": [
       "<IPython.core.display.HTML object>"
      ]
     },
     "metadata": {},
     "output_type": "display_data"
    },
    {
     "data": {
      "application/vnd.jupyter.widget-view+json": {
       "model_id": "b2e1548a5db24133b0b80c9480499516",
       "version_major": 2,
       "version_minor": 0
      },
      "text/plain": [
       "interactive(children=(ToggleButtons(description='Plot Type:', icons=('',), options=(('Pipeline Plot', 'pipelin…"
      ]
     },
     "metadata": {},
     "output_type": "display_data"
    }
   ],
   "source": [
    "# Create a model\n",
    "model = create_model('rf')\n",
    "\n",
    "# Evaluate model\n",
    "evaluate_model(model)"
   ]
  },
  {
   "cell_type": "code",
   "execution_count": 13,
   "id": "3353f9ba-700b-4d1f-88bc-0143ff13bc62",
   "metadata": {},
   "outputs": [
    {
     "data": {
      "text/html": [
       "<style type=\"text/css\">\n",
       "</style>\n",
       "<table id=\"T_273eb\">\n",
       "  <thead>\n",
       "    <tr>\n",
       "      <th class=\"blank level0\" >&nbsp;</th>\n",
       "      <th id=\"T_273eb_level0_col0\" class=\"col_heading level0 col0\" >Model</th>\n",
       "      <th id=\"T_273eb_level0_col1\" class=\"col_heading level0 col1\" >Accuracy</th>\n",
       "      <th id=\"T_273eb_level0_col2\" class=\"col_heading level0 col2\" >AUC</th>\n",
       "      <th id=\"T_273eb_level0_col3\" class=\"col_heading level0 col3\" >Recall</th>\n",
       "      <th id=\"T_273eb_level0_col4\" class=\"col_heading level0 col4\" >Prec.</th>\n",
       "      <th id=\"T_273eb_level0_col5\" class=\"col_heading level0 col5\" >F1</th>\n",
       "      <th id=\"T_273eb_level0_col6\" class=\"col_heading level0 col6\" >Kappa</th>\n",
       "      <th id=\"T_273eb_level0_col7\" class=\"col_heading level0 col7\" >MCC</th>\n",
       "    </tr>\n",
       "  </thead>\n",
       "  <tbody>\n",
       "    <tr>\n",
       "      <th id=\"T_273eb_level0_row0\" class=\"row_heading level0 row0\" >0</th>\n",
       "      <td id=\"T_273eb_row0_col0\" class=\"data row0 col0\" >Random Forest Classifier</td>\n",
       "      <td id=\"T_273eb_row0_col1\" class=\"data row0 col1\" >0.3750</td>\n",
       "      <td id=\"T_273eb_row0_col2\" class=\"data row0 col2\" >0.6000</td>\n",
       "      <td id=\"T_273eb_row0_col3\" class=\"data row0 col3\" >0.6667</td>\n",
       "      <td id=\"T_273eb_row0_col4\" class=\"data row0 col4\" >0.3333</td>\n",
       "      <td id=\"T_273eb_row0_col5\" class=\"data row0 col5\" >0.4444</td>\n",
       "      <td id=\"T_273eb_row0_col6\" class=\"data row0 col6\" >-0.1111</td>\n",
       "      <td id=\"T_273eb_row0_col7\" class=\"data row0 col7\" >-0.1491</td>\n",
       "    </tr>\n",
       "  </tbody>\n",
       "</table>\n"
      ],
      "text/plain": [
       "<pandas.io.formats.style.Styler at 0x7f11444f6c80>"
      ]
     },
     "metadata": {},
     "output_type": "display_data"
    }
   ],
   "source": [
    "# Predict\n",
    "predictions = predict_model(model)\n",
    "\n",
    "# AutoML\n",
    "automl_model = automl(optimize = 'Accuracy')"
   ]
  },
  {
   "cell_type": "code",
   "execution_count": null,
   "id": "9c463487-d33b-4fb7-99ee-dd2f40a1bc98",
   "metadata": {},
   "outputs": [],
   "source": []
  },
  {
   "cell_type": "code",
   "execution_count": null,
   "id": "80df0238-8329-4c3c-9c51-3c8ff4932fd9",
   "metadata": {},
   "outputs": [],
   "source": []
  }
 ],
 "metadata": {
  "kernelspec": {
   "display_name": "Python 3 (ipykernel)",
   "language": "python",
   "name": "python3"
  },
  "language_info": {
   "codemirror_mode": {
    "name": "ipython",
    "version": 3
   },
   "file_extension": ".py",
   "mimetype": "text/x-python",
   "name": "python",
   "nbconvert_exporter": "python",
   "pygments_lexer": "ipython3",
   "version": "3.10.12"
  },
  "widgets": {
   "application/vnd.jupyter.widget-state+json": {
    "state": {
     "03e992fcb8854125905f178184852503": {
      "model_module": "@jupyter-widgets/controls",
      "model_module_version": "2.0.0",
      "model_name": "ProgressStyleModel",
      "state": {
       "description_width": ""
      }
     },
     "04ba57d4f1b74b608932058830045301": {
      "model_module": "@jupyter-widgets/base",
      "model_module_version": "2.0.0",
      "model_name": "LayoutModel",
      "state": {}
     },
     "0be497fc6954426ba08ef8f4bbae4517": {
      "model_module": "@jupyter-widgets/controls",
      "model_module_version": "2.0.0",
      "model_name": "FloatProgressModel",
      "state": {
       "layout": "IPY_MODEL_6a77362dea6048dbbd4e380526aca649",
       "max": 61,
       "style": "IPY_MODEL_03e992fcb8854125905f178184852503",
       "value": 61
      }
     },
     "132d4b33b3ff48b3ad78b72bca96381e": {
      "model_module": "@jupyter-widgets/base",
      "model_module_version": "2.0.0",
      "model_name": "LayoutModel",
      "state": {}
     },
     "239a1e25883041b19453e7d1d16a0523": {
      "model_module": "@jupyter-widgets/controls",
      "model_module_version": "2.0.0",
      "model_name": "HTMLStyleModel",
      "state": {
       "description_width": "",
       "font_size": null,
       "text_color": null
      }
     },
     "298b0bcfe8ca4cccadff031a586d86b1": {
      "model_module": "@jupyter-widgets/controls",
      "model_module_version": "2.0.0",
      "model_name": "ToggleButtonsStyleModel",
      "state": {
       "button_width": "",
       "description_width": ""
      }
     },
     "4dc30c9fdcfb4988b964fdd1de36cc7f": {
      "model_module": "@jupyter-widgets/base",
      "model_module_version": "2.0.0",
      "model_name": "LayoutModel",
      "state": {}
     },
     "6a77362dea6048dbbd4e380526aca649": {
      "model_module": "@jupyter-widgets/base",
      "model_module_version": "2.0.0",
      "model_name": "LayoutModel",
      "state": {}
     },
     "6c85fe45c87f4cbfbb20e21777afc33b": {
      "model_module": "@jupyter-widgets/controls",
      "model_module_version": "2.0.0",
      "model_name": "FloatProgressModel",
      "state": {
       "layout": "IPY_MODEL_9628ecd49cd14f34aeb08d0451a937a3",
       "max": 4,
       "style": "IPY_MODEL_bb27c024a5324035adbe3a314f37f5cb",
       "value": 4
      }
     },
     "73ce833f7e6548bdb22bbf5647939966": {
      "model_module": "@jupyter-widgets/base",
      "model_module_version": "2.0.0",
      "model_name": "LayoutModel",
      "state": {}
     },
     "8771c9dcab4f416eaf74f63aefe861ae": {
      "model_module": "@jupyter-widgets/controls",
      "model_module_version": "2.0.0",
      "model_name": "HTMLStyleModel",
      "state": {
       "description_width": "",
       "font_size": null,
       "text_color": null
      }
     },
     "88bee5d55fc745778adeef627e627ba0": {
      "model_module": "@jupyter-widgets/controls",
      "model_module_version": "2.0.0",
      "model_name": "HTMLModel",
      "state": {
       "layout": "IPY_MODEL_9c81f09e538d4756b8c839181a7d3984",
       "style": "IPY_MODEL_b2c8f06b7cb94c409fff54bfb2e26446",
       "value": "Processing: 100%"
      }
     },
     "8af1b1fe82c14ccc9de74ed64a8602f1": {
      "model_module": "@jupyter-widgets/output",
      "model_module_version": "1.0.0",
      "model_name": "OutputModel",
      "state": {
       "layout": "IPY_MODEL_04ba57d4f1b74b608932058830045301",
       "outputs": [
        {
         "data": {
          "image/png": "iVBORw0KGgoAAAANSUhEUgAAArAAAAH7CAYAAAA0M6yEAAAAOXRFWHRTb2Z0d2FyZQBNYXRwbG90bGliIHZlcnNpb24zLjcuMiwgaHR0cHM6Ly9tYXRwbG90bGliLm9yZy8pXeV/AAAACXBIWXMAAA9hAAAPYQGoP6dpAACPQElEQVR4nOzdd3wUZeIG8Gdm+26y2fSEQBKKoYZeREEQPbBhFxUbFpRTz16w44ntPPWnqOeBBfXsDRt27+wNUQnSIQkhpGeTTbbvzvv7Y5M1S3rd3eT5fu4+ktnZmXf23Z199p133lcSQggQEREREUUJOdwFICIiIiLqDAZYIiIiIooqDLBEREREFFUYYImIiIgoqjDAEhEREVFUYYAlIiIioqjCAEtEREREUYUBloiIiIiiCgMsEREREUUVBliibli+fDkOPfTQcBejXfv27cPIkSPx8ssv99k+fT4fXnzxRZx++umYMmUKJkyYgPnz52PlypXYt29fn5Wjq6qqqnDGGWcgNzcXd955Z49v/6233sLIkSOb/X/69Ok4/fTTsX79+h7fZ0fK0xd10/h+bO3/Y8aM6fUydFdH39/h+OwBwKpVqzBy5Ei43W4AgNvtxsUXX4wJEybgkksuCVu5iHqKOtwFIKLel56ejm+++QaxsbF9sj+Px4OLL74YW7ZswaWXXorZs2dDo9Fg8+bNePzxx/Hee+9hzZo1GD9+fJ+Upyveeecd/Prrr1i9enWvlvPFF19EVlZW8O+qqiq88847uPrqq1FWVobzzz+/1/Ydbtdddx1OPPHEZsslSer7wrTihx9+wM0334wvvvgiuCwa3t8XXHABzjjjDOh0OgDA//73P3z55Zf4+9//jiOOOALx8fF9ek4g6mkMsERRSlEUCCGgUqnaXVelUiE5ObkPShXwyCOP4JdffsFrr72G0aNHB5dnZmZi9uzZOOmkk/CPf/wD//nPf7q8D6/XC41G0xPFbZHVagUAzJkzp8vbEELA7/dDrW79VBsfHx9SN8nJyRg1ahR27NiBZ599tl8H2JiYmB5/X3bkNe+MX3/9tdmyvnh/d5fJZILJZAr+3fh+PvTQQ5GUlAQA3X7tfT4fVCpVRP3goIGDXQiI+sB3332HM844AxMmTMDkyZNx8cUXY/fu3SHrfPPNNzjrrLMwbdo0TJo0CSeddBI++eSTkHVGjhyJ1atXY9myZRg/fjx27NiB1157DSNHjsTOnTtxySWXYOLEiTj00ENx5513wufzAWh+GbMjzwGAXbt24ZxzzsH48eMxa9Ys/Otf/8LatWsxcuRIeL3eFo/V5XLhpZdewimnnBLy5d4oNjYWL7zwAp599tkWy9bowO4Z55xzDi699FI8+uijmDRpEtasWYMJEybgoYcearaPCy+8EMcff3zw7/Xr1+PEE09Ebm4upk+fHmzdbM0555yD1atXB1/z5cuXAwDKyspw7bXX4uCDD8a4ceNw5JFH4rHHHoPf7w8+d968eVi5ciVuvvlmTJgwAf/73/9a3U9bRo4cifLyciiKElz2/PPP47jjjsPEiRMxY8YMXHjhhdi2bVvw8W+//RYjR47ETz/9hOuuuw5TpkzBjBkzcO2116K+vj64Xnl5OZYtWxbczu233w6n09msDP/973+xaNEijB8/HhMnTsSZZ56J77//vtn+fvzxR1x44YUYP3485syZg3Xr1qGsrAxLly7FxIkTMWfOnC6Hue685lVVVbjpppswc+ZMjBs3DsceeyzeeOONkO1/+umnOOWUUzB58mRMnjwZZ5xxBr777jsAgffg//3f/6G4uBgjR47EqlWrOv3+bklHPuttlQsAtm3bhqVLl+Lggw/G+PHjccwxx+CFF14IPt60C8Hy5ctxxx13AACOOOIInHPOOS1+7vbu3Yu//e1vmDZtGnJzc3HyySfjv//9b/Dxxue8/vrrOOOMMzB+/HjU1dW1epxEvYkBlqiXbdiwARdddBEGDRqE1157DWvXroXT6cTZZ5+N6upqAIEvhksuuQSZmZl45ZVX8O677+KQQw7BVVddhS1btoRs780338TkyZPx4YcfYvjw4cGWpjvuuAMnnXQS3n//fVxwwQV46aWX8N5777VYpo48p/EyaWlpKdasWYPnnnsOO3bsCH7htdb6mZeXB4fD0WbLZXp6epdaT3ft2oX8/Hy8+eabOPvsszFv3jx8/PHHIetYrVb88MMPOOGEEwAA77//Pq6++mpMnz4d69atw+OPP45du3ZhyZIl8Hg8Le5n1apVOPvsswEEwsYtt9wCt9uNc889F5s3b8aDDz4YfM3+/e9/44EHHgh5/tdffw2TyYT33nsPM2fO7PRxAsCePXuQnp4OWQ6cpt955x3cfffdOP300/H+++/j+eefBwBcfPHFcLlcAP6s1/vuuw8zZszAunXrcMstt+CDDz7A2rVrg9u+5pprsGnTJjzyyCN4+eWXkZGRgX//+98h+//uu+/w17/+FTk5OXjttdfw0ksvITU1FRdddFHwPdm4v4cffhhnn3021q1bh6FDh2LFihVYvnw5Tj/9dKxbtw5TpkzBPffc0+n+td15zT0eD5YsWYIffvgB9913H9577z0sXLgQt9xyC9atWwcAyM/Px1VXXYUFCxbgnXfeweuvv47c3FxcfPHFKCkpwS233IIjjjgCaWlp+Oabb3DBBRd0+/3dkc96e+UCgGXLliEmJgYvvPAC1q9fjyVLluD+++9vse/0Lbfcguuuuw4A8Prrr2PVqlXN1qmpqcHixYuxd+9e/Otf/8K6deswefJkXHrppfjhhx9C1n322Wdx6qmn4uOPP0ZMTEyrrwNRrxJE1GU33nijOOSQQ9pcZ+nSpWLu3LnC4/EEl5WXl4uxY8eKf//730IIIdxutygqKhJOpzO4jtPpFDk5OWLNmjXBZTk5OeKkk04K2f6bb74pcnJyxAsvvBBcpiiKmDRpklixYoUQQoiioiKRk5MjXnrppQ4/55tvvhE5OTniww8/DK7j8XjEYYcdJnJyclo93vfff1/k5OSIrVu3tvm6NDqwbI0OfG3PPvtsMXbsWGG1WoPLPv/882b7euWVV8SoUaNEaWmpEEKIY445Rpx++ukh2/7jjz9ETk6O+OCDD1ot1wMPPBBynO+9957IyckRP/30U8h6t912m5gwYYJwu91CCCEOP/xwccghhwifz9fmcTfWwa5du0KW2+12sXbt2mZ1X19fLwoLC0PW/d///idycnLE77//LoQQ4ocffhA5OTnivvvuC1nvuOOOE0uXLhVCCFFYWChycnLEs88+G7LOJZdcInJyckRRUZEQQogLLrhAHHnkkUJRlOA6TqdTTJ06Vdx0000h+3vyySeD63z44YciJydHPPHEE8Flv//+u8jJyRGffvqpEKL1Oj9Qd17z9evXi5ycHPH111+HPHfZsmXiqKOOEkII8cEHH4icnBxRUVERfNzv94uNGzeK+vp6IYQQV111lTj88MODj3f3/d2Rz3p75aqsrGzx/btlyxZRXl4uhBDi0UcfFTk5OcLlcgkhhHjppZdC6vfAcq1Zs0aMHDlS7N69O7g9RVHE8ccfLy688MKQ5/ztb3/r0LET9Sb2gSXqZb///jtmzZoV0iKTnJyMgw46CBs3bgQAaLVa/Pzzz3jllVdQUFAQ0jJYU1MTsr1x48a1uJ8JEyYE/y1JEuLi4lBbW9tm2dp6zs6dO5uto9FoMHv2bLz++uutbrOxVU4I0ea+u2Lw4MGwWCzBv2fPng2LxYKPPvoIo0aNAhDoLjBz5kykpqaivr4eu3btwrJly0K2M2bMGFgsFmzcuBHHHHNMh/adl5cHlUqFKVOmhCyfNGkSXn31VeTn52PkyJEAgFGjRnWobzIAnHLKKSF9CJ1OJ1JSUnDttdfioosuCi7XaDR466238Omnn6K8vBw+ny94Gf3A90jTOgMQUq87duwA0Px9NHny5JDLxXl5eTjiiCNCyqbX6zFq1KiQbguNx9uosX6ajiQQHx8PAM0uN99zzz34xz/+ceBLgjFjxuDFF1/s1mv++++/Q5IkTJ8+PeS5M2fOxBdffIGamhpMmTIFiYmJOPfcc7Fo0SIcfPDBGDVqFCZNmtSsTI26+/7uyGe9vXIZjUZMmTIFK1aswPbt23HooYdi0qRJLXZp6Kjff/8dycnJGDZsWHCZJEk4+OCDm33eWzsHEfUlBliiXlZXV4ePP/445C5mIHB5tPEL94svvsDy5ctx8sknY/ny5YiPj4ckSZg/f36z7ZnN5hb3YzQaQ/6WJKndL9m2nmO32wGg2V3KiYmJbW4zNTUVQKA/XXe+UFty4LFrNBosWLAAH330Ea666ipUVlbi559/xj333AMAwX6fTz/9dPCSeyOn04mKiooO77u+vh6xsbHBS/oHlqlpH9PW6qgljz32GIYMGQIg8Jqfe+65mDt3Li6++OKQ9R566CE8//zzuPrqqzFr1iwYjUb8/vvvuP7665tts616bSxnXFxcyDoH/l1fX99sWeN6B/Yf1uv1IftqbdmB78dly5bhuOOOa7aPxjvnu/Oa19XVQQiBGTNmhCxv7ONdWVmJESNG4PXXX8czzzyDtWvX4t5770VGRgYuu+wynHLKKc3KBXT//d2Rz3pqamqb5ZIkCU8//TTWrl2Ljz76CE8++SRiYmJw5pln4oorroBWq+10uerq6lBZWdksvHu9Xni93pA+0hy5gCIBAyxRLzObzTj00ENxxRVXNHus8Ytm/fr1SElJwT333BP8sm/sHxsuBoMBQCBUNe3n1ng3c2vGjRsHi8WCTz/9FAsWLGhxnU2bNsFms2HWrFmt3sHc2K+zPccffzxeffVVbN++HRs2bIBOpwuGgcYv2vPOOw+LFi1q9twDg15bYmNjYbPZ4Pf7Q1r6GlvNOhNam0pPTw8ZRuuqq67CypUrcfzxx2Pq1KnB5evXr8dRRx2FpUuXBpcd2D+6IxqP+cCbtg5sxY2NjW22rHG9ngowCQkJIcd+oO685mazGTqdLtjf9UDp6ekAgIyMDNx222247bbbsGvXLvznP//BzTffjCFDhjRrvQU6//4+UEc/6+2Vy2Aw4K9//Sv++te/oqKiAh988AEeeugh6PV6XH755a2+Lq0xm80YPHgwnnrqqRYfb/xRQRQpeBMXUS+bOHEi8vPzkZWVFfJ/n88XHMamvr4eFoslJMy99dZbAHrnUnxHZGdnAwgNSV6vF19//XWbz1Or1TjrrLPwwQcfNLv5AwBqa2uxfPlyPPzww/D7/cFWvqaXl4UQzS5Tt2bKlCkYNGgQPv/8c3z00Uc48sgjgyHNZDIhJycHhYWFzV5/j8fTbmtyUxMmTICiKNiwYUPI8g0bNiAmJib4enXX4sWLMWbMGNx6660hl5fr6+uRkJAQsm5jOOvMe2T48OEA0Oz1/emnn0L+njBhAn7++eeQbdvtdmzZsgW5ubkd3l93dOc1nzhxItxuN5xOZ0i96/V6mM1maLVabN26NWRUhREjRmDFihWwWCz4448/gsubvgadfX8fqCOf9fbKVVZWFnKzVnJyMpYsWYI5c+Zg8+bNrb4mbZk4cSJKS0sRExMT8nqpVCokJiY2awUnCje+I4m6SVEUVFRUNPu/zWYDAFx00UXYtm0b7rzzTuzYsQMFBQVYvXo1Fi5ciG+++QZAoP/hrl27sH79euzduxfPPPMMfv/9dwwaNAhbtmxpc8in3nLwwQcjISEBDz74IH755Rfs3r0bN954Y4fuOv7rX/+KWbNmYdmyZXjiiSewY8cOFBUVYf369TjzzDPhdrvx4IMPQqVSISYmBsOGDcNHH30Eq9UKh8OBVatWtTisU0skScKxxx6LDz/8EBs3bgyOPtDokksuwWeffYbHHnsMu3fvxq5du3D//ffjxBNPDPYH7YgjjjgCw4cPx+23347vv/8e+fn5WLt2Ld577z2cf/75PTYmrSzLWLFiBQoLC/H4448Hl0+aNAmffPIJfv/9d+zcuRO33HILBg0aBADYuHFju/2dGw0fPhxjx47FY489hm+++QZ79uzBE088gfz8/JD1LrroIuzfvx+33XYbduzYgby8PFx77bXw+/0455xzeuRY29Od1/zwww9HTk4Orr/+enz//fcoLi7Gl19+ibPPPhsrVqwAAPz222+49NJL8eabb6KoqAiFhYV49tlnUVdXF+x3azabUVFRgQ0bNqCoqAhA597fB+rIZ729ctXW1uK6667Dgw8+iF27dqG4uBiff/45fvzxxxZbjTvi5JNPRlxcHK688kr8+uuv2LdvH9avX4/TTjsNTzzxRJe2SdSb2IWAqJuqq6tbvFR4xBFH4IknnsDUqVPx1FNPYdWqVTjttNMgyzIOOugg/N///R/mzp0LIDDu6J49e4JfrPPmzcO9996LN954A4888ghuvfVWrFmzpg+PKnCp+YknnsBdd92F8847DykpKbjggguQmZmJgoKCNp+r0Wjw73//G2+88QbefvttPPfcc3C73Rg0aBAWLFiA8847L+RmrPvvvx933nkn5s6dC4vFgjPPPBMLFy5s82axphYuXIg1a9YgOTm52bBVxx13HGRZxpo1a/Dvf/8bWq0WY8aMwTPPPBNy81F7tFot1q5di/vvvx9XXXUV7HY7MjIycN111+G8887r8HY6Yvz48Tj99NPx9NNP4+ijj8aoUaOwYsUK3HzzzTjvvPMQFxeHxYsX4+KLL0Z1dTWef/556HS6Zjc7tebRRx/FHXfcgUsvvRR6vR7z58/H1Vdfjeuuuy7YR3T69Ol48skn8dhjj+GUU06BWq3GhAkT8PzzzwdbcXtbd17zxuf+85//xDXXXIO6ujqkpKRgwYIFuPLKKwEAZ555JlwuF5555hncddddUKlUGDFiBB599NHgLFpnnnkmvvnmGyxduhRnnHEGbrzxxk6/v5vq6Ge9vXL961//wpNPPomXX34ZXq8XgwYNwkUXXdTliS8sFgteeukl/POf/wwOzTZo0CAsWbIk5GZCokghiXBdnySiiNd4k0zTVterr74aO3bswAcffBCuYhER0QDHFlgiapHP58MJJ5yA+Ph43HbbbUhISMC3336LTz75BDfccEO4i0dERAMYW2CJqFWFhYV44IEH8PPPP8PlcmHIkCE47bTTcM455/CmDiIiChsGWCIiIiKKKmxCISIiIqKowgBLRERERFGFAZaIiIiIosqAGYXg119/hRCixwYbJyIiIqKe5fV6IUkSJk2a1OZ6A6YFVgjRp1NyCiHg8XjCNg0otYz1ErlYN5GJ9RK5WDeRifXSPR3NawOmBbax5bWv5vB2OBzYunUrRowYEZyXncKP9RK5WDeRifUSuVg3kYn10j15eXkdWm/AtMASERERUf/AAEtEREREUYUBloiIiIiiCgMsEREREUUVBlgiIiIiiioMsEREREQUVRhgiYiIiCiqMMASERERUVRhgCUiIiKiqMIAS0RERERRhQGWiIiIiKIKAywRERERRRUGWCIiIiKKKgywRERERBRVGGCJiIiIKKowwBIRERFRVGGAJSIiIqKoog53Afozn+KFx+eEyhvuknSfBBlajT7cxSCiMFCEH16/B35FC1mSIUls+yCi8GKA7UVOUYVKuwE6ry7cRek2SQI0Kj0STGnQqBlkiQYCRSiocZajXilHZZ0OdV4dAAkSJMiyKhhmZUkV+K8sQyWpoZI1UMsaqGR18DFJksJ9OETUjzDA9iIJEtSyBmqVJtxF6RGK8KOsrhBGjRkWUypktsIQ9Vv17hrYHBVwed2QoYJKpYFKDj2XKUIBhAI/fMFlQggIoUARSkNoFZAkCRJUkCQJsqQKhFpZhtwQflWSuuFcqW1YruL5hYjaxABLnaKS1HB66+GqqYfZkIwYvSXcRSKiHuTxuVBtL4FP8UAlqTsdJCVJgiSpIEPV4uOK8EMRfkBpukyBEAoAAdG4HTQEWblJ6G0SgFWyGmqVFipZ0xCE2bWBaCBhgKVOa/xCq3WWo95tRbwpDTq1IcylIqLuUIQfNfZyODw2qGQ1VFLffT3Ikgy0Ej6FEPALX8utvAiE3sD1robQ29C1IRB4AwFYamjlVclqqGUtNGodW3iJohwDLHWZLKkghIIK214YtDGIN6VBllpudSGiyCSEgN1tRa2zEhIkqOTI/1pov5U30IUB8AL+wDIhFAghoAg/VLIaMfpExOrj2TeXKEpF/pmKIp5KVsPtdaDEuhtmQxJi+KVAFBXcPies9hL4FV+///EZuJEMwdBb56qE3W1FnCEZRp05zKUjos5igKUe0fjlYHNVwu6uQbwpHToNuxUQRSJF8cNqL4XTWx8cKWCgaTxmq70UNlcV4o1pPGcRRREGWOpRsqSCgEBF3V7oNSYkmNIhywPvy5EoEgkhUOeyos5VCQlyVHQX6G2y3NAVqm4vdGoj4k2pUKu04S4WEbWDvdipV6hkNTw+F0pqd8HmrIQQov0nEVGvcXntKLPlo85VGbyjn/6kktXw+t0orc1HdX1JYKQEIopY/PlNvSYw9qMa9S4rHB4bLMZU6DWmcBeLaEDxKz5U20vh8Toa7tDnFZHWSJIElaSGy1uPkpo6xOoSEGtI4PBcRBGIAZZ6nSTJEEKgsn5f4BKdMa3fTO5AFKmEEKhzVqHOXR0cXoo6RpJkSADqXNWo99TAbEiCSRvHVmuiCMIAS31GJanh9blRatuDWF0CzIZEtmwQ9QKXpx5WZxmEorDFtRsaQ3+toxz1rmpYDCnQa2PCXCoiAhhgqY9JkgRVQ7cCu6cW8cY0GPiFQNQjfH4vrPYSuP1OqCQ1fyD2kMCY1wKV9cXQqvWwGFOhVevDXSyiAY0BthcIIfBNQQW+3evGWLkOs4Zro/bSkxACP+61oazOi9RYDWZkmnvkWBpbNqrqi6FVG5BgSuv1O38b6+WXglpUGSrwl9GZUVsv/U1/qhshBL7eU479NgcGmY2YPSyl149FCAW1zkrUu6yBaVZ7aBYtIQR+KqrDH/3gXAZ0/3ymktXwKz6U2wph0MTAYkoN20gO/MxQb4v0egl7gP36669x4403YsaMGXj44YdbXU9RFDzyyCN44403UF9fj0mTJuGuu+7CkCFD+rC07Xs7by9ufG8jdlfVBRZ8vwNZ8XrcemQWjh6VGN7CddKH26qw8rNCFFpdwWU9fSwqWQ2f34PS2j0w6eNhMST3SqtRs3r5rhjDE2Nx/8LJOCk3s8f3Rx3Xn+qm2bEAvX4sDrcNNc5yCEXp0TDV7PP/fV3UnsuAnj2fqWQ13D4nSmp3w6SzIM6Q3KdT0/IzQ70tGuolrNeX1qxZg5UrVyIrK6vddZ9//nm8+eabePrpp/Htt99iyJAhuOyyyyJqeKa38/Zi0XNfhVQ4ABRaXbjkje34cFtVmErWeR9uq8Ilb2wPOdkDvXMskiRBJWvgcNtQUrsHDretx7YNtF4vu6vqsOi5r/B23t4e3R91XH+qm74+Fq/Pg3JbIartpZAg9ehNWn35+e8LvXE8jSMWONw2lNbshs1Z1SffR/zMUG+LlnoJawusTqfDG2+8gbvvvhtut7vNdV9//XVcdNFFGDVqFADgxhtvxMEHH4zffvsNkyZN6ovitkkIgRvf2willROYIoDbP85HSowmoprgWyKEwG0f5UNp5Vzc28cilFqoZC3MhsRuj1YghMCVb//cRr0IXPX2z0iP1Ud8vfQ3/alu+vJYFCFgd1vh8tQHrlb08GsT7s9/T+ur4xGiDpJUhBidpdeGC+RnJjq4XG4UVDpQX1QNvd4e7uJ0SkfqZfn7G3HiuCFhrxdJREAT5vLly+F2u1vtQuB2uzFhwgT85z//wdSpU4PLjznmGJx55pk455xz2t1HXl4ehBAYMWJEj5W7qW8KKnD001/1yraJiIiIIsVHF87BodlJvbLtXbt2QZIk5Obmtrle2PvAdkRNTQ2EEIiLiwtZHhcXh+rq6g5vx+v1YuvWrT1dPADALwW1vbJdIiIiokjyy7ZdSHBW9Nr2tdr2b+qOigDbls40YWs0ml5rga0yVADfFbe73l3zMzEmxdgrZegpf5Q5cPun7fdx6ctjUYQPKkmDGF1Cp0Yr+L2kBle/92u76/3fwkkYn27pRgmps/pT3fTWsQihwO6ugdtvh9xDIwu0JxI//90RzuMRQkCBH3qVCSZdHKRujsnLz0x0cLvdKCnZj/T0QdDpdOEuTqd0tF6mjBqB0b3YAtsRURFg4+PjIcsyampqQpZbrVYkJnb87lFJkmA09s4J9y+jMzE8MbZZp+emshP0WDI9I+z9RtozPTseT28ob3bDQ1PhOhaf4oVJa4DFlNKhAdoPy8nAY9/tarNeRiTF4vI5YyO+Xvqb/lQ3vXEs9a4a2JwVAAyQpL6bgjmSP/9dEQnHI4QCAXfDiAVJXR5phZ+Z6OBwOLDVW4PRI9J7LXP0lo7Wy5Gje68PbEe3GxWjXGu1WuTk5OCPP/4ILqupqcHevXvb7SPRVyRJwv0LJ0Nu5YWXJeCWI7Ki4oMoSRJuPTILcitFDeexqOXGecp3o95V3e5dv+3Xi4T7jpscFfXS3/SnuunJY3H7nCitzUetszwwpWkfT0YQyZ//roiE45EkGbKkgt1Vg5LaPah31XRpxAJ+Zqi3RVO9RGyALSsrw1FHHYWioiIAwJlnnomnnnoK27ZtQ11dHVauXIlx48Zh/PjxYS7pn07KzcRr5x2GEUmxIcuzE/T496kjo2rsxKNHJeLfp45EdkLobDORcCyNXwa1zkqU2fLh9jrbXL+1ehmRFIvXzjssYsa0G4j6U91091gU4UdVfTEqbIUQIrxTwEby578rIuV4ZFkFCRJqneUos+XD5anv9Db4maHeFi31EtZRCBpbT30+HwBArQ70aMjLy8O+fftwxBFHYP369Rg+fDgAYNWqVXj55Zdht9sxY8YM/P3vf0daWlqH9pWXlxeyz94khMCnW/fiuy0bMTZ7EA4dnhgRv1a6onHmmvJ6L1JjtZg+JDbijsWv+GDQxCDelNbmWJiN9bJx225MGTWiVy+BUOf0p7ppnL2mxObEoDgDZg1te/YaIQTqXVbYnJWQJCmipn8VQuCb3VXYUlCCsdnpUX0uAyLvfOZXfNCo9Ig3dX5q2oH8mYl0DocDW7duxejRo6OuC0FT4aqXjua1iBhGqy/0ZYAFAm/gnzf/D1lZ2VHXiTsaCSGgCAVmQyJi9Qmtfsj6y4mlPxqIdeP2OmG1l8AvfGFtcW2L2+1GYWEhsrKyeC7rJX7FB73GhHhTWqdmUxuIn5lowHrpno7mtcj5qU/UDYHZvFSoc1WhrHYPXN7oGjyaBhZF8aOqrhgVdXshICI2vFLfUMlqeHwulNTuhtVRCkUo4S4SUcSLilEIiDpKllQQAKrqiqHVGJBgSu/R+eGJukMIgTpXFepcVZCg4nuTgiRJggpqONx1cLhtiNW3fTWJaKDj2ZP6JVlWwetzo7R2D2J1CYg1RHffPYp+Lq8dVkcphKL02ZiuFH3khj7Q9a5q2N01iDMkw6gzh7lURJGHZ1HqtyRJggQV6t1W2D21iDemgr1mqK/5/F5Y7aVw+x1QSeqIukmLIlfj+8RqL4XNVYV4Yxp0GkOYS0UUORhgqd9r/CKotBdD8UrwK74wl4gGAiEU1DorUe+2QoYKKra6UhfIsgpCKKio2wud2gCLMQ0adcdnIyTqr3hGpQFDJanhVVywiwpU2/cDqhQYtDFsEaMe5/LaYbWXQlH87OdKPUIlq+H1e1Bmy4dRa4bFmBLuIhGFFc+sNKBIkgQZKvgUD6yOUlgdgFZtgFFrhlEbyzBL3SKEAqu9DA6PDSpZ3ea4xESdJUkSVFLDbIS1NqiEoUszehH1BwywNGA1Dl3k83tQ4yhDjaOMYZa6zOW1o9peAiEEW12pV0mSDAkyHG4b6pVyOD2ZHG+UepQQAm6fA3Z3LZyeOqTGDYVGFVldV3iWJUJLYbYUWrWRYZbapQgFVnspnJ46qGQ1R7ugPiNLcsPUtKVQVG4OG0jdIoQCh6cOTk8d3D4nhFCgktUQEAAir6Wf73SiAzQNs1Z7aUiYNWhjg8PcELk8dlQ72OpK4SXL6oZhA3fDrE9GrCEh3EWiKKEoftjdNji9dfD6nQAkyJIq8D0X4d91POMStaExlDDMUlONra4uTz1kWcVWVwq7wLCBathclbB7apFoSodGrQ93sSgC+RQvHK5aOH12eH1OSJAhy6qoG586ukpLFEYMswQALk99Q6sreJMWRRxZCgy7VWYrhElvgcWQzC5QBI/PDbvHCrfXCa/fDZWkgiTJUMmacBetyxhgibqgaZitsTfeAKaHQWuGUWtmmO2HAq2uJXB57A2truEuEVHrVLIaDrcNTk8dEoxp0Gtjwl0k6kOBm7CccLhr4PY54Vd8kKXA1SJ1FIfWphhgibqpsRXO5/ei1l6OWkd5IMxqYmHUxTHM9gMuTz2q7aUABFtdKWrITSZx0blNSDSl8/3bjwmhwOmxw+GthcfrhCL8kKXAjaX9sY9+/zsiojAKCbPeCtQ4y6FTGxhmo5QiFFjrS+D01TfMpMVmV4o+KkkNr8+F/TW7YTEmIUbPm7z6C0X4Ay3t3nq4vU5IEhpaWmWo+vn3DQMsUS9pKcxqVQYYtbEw6szB0Q4oMjk8daixlwEQnAaWol5gEgRVw/TGtUg0DYJGrQt3sagL/IoPdncNnF47vD4XJEiQZRVUA6x1nWdloj7QGGb9ihe1DobZSKYIP6rrS+Fiqyv1Q3/e5FWAGH084gxJvMkrCnh9btR7auD2OuD1u4NDXfXHrgEdNXCPnChMmoVZRzm0Dd0MTHqG2XAKtLqWAgBbXalfU8lq2F01cHrqEG9Kg15jCneRqAkhBDw+J+zuWrh9DvgUL1QN/Vn7y01Y3cUzNFEYNQ2zNmcFap1/3gBm0scxzPaRQKtrCVw+O4MrDRiN55+qumLoNEYk8CavsBJCgctrh91jg8frCLkJi6G1OZ6piSLEn2HWB5uzErXOCobZPuBw21DjKAPAVlcamGRZBY/PhZKa3YgzpiBGbwl3kQYMRShweurg8Njg8TohJNHQ0tr/b8LqLp6tiSJQSJh1VaHWWQ6N2gCjJhYmXRxbSXqAIvyoqi+B22sf0P3IiICGmbwkFWqcZbC7a5FgSodGrQ13sfqlwE1YtXB56+HxuyCJwE1YPK93Ds/aRBGucU5q5YAwa9DEIEZn4UmvC/5sde2f4yMSdZVKUsOveFFuy4dJH484QzKnSu4BXp8Hdk8NXF4HfH4XpMabsCQ17xPtIp65iaJI0zBb56pGnbMSarWeYbaDFMWPKnsJ3F7HgBtyhqijAq2xvMmruzw+F1z1tfD4nPApniaTCrA/a09ggCWKUgeGWZuzEhqG2VY53DZYHaWQIDO8EnVA4zmksm4fDJoYxMeksS9+GwLTt9phdZSjzl+OSrsaRr2JobWXMMAS9QOth1kTTDrLgL5MHmh13Q+318ngStQFKlkNt8+B0po9MBuTEaOzhLtIEaPxJiynpw5unxNCKPD5/ZAAqGUNu1/0ooH7rUbUT4WGWStszqoBG2bZ6krUMxonO6i1l8PRcJOXWjUwb/JSFD/s7lo4vfXw+p0QIhDyG8+9PvjDXcQBYeB8kxENQM3D7J/dDPpzmFUUP6rq98Pjc0Dup8dIFA6yrILP70VpbT5i9QkwG5IGRCujT/Gi3mWF2+eAx+cKzoQl8yassOGZnWiA+DPM+kPDrDoGJn3/CbP17hrU2sshSTLDK1EvkCQJKkkNu7sGTo8N8aZB0GkM4S5Wj/P4XLAHp2/1QCWpIEkyJxWIEDy7Ew1AIWHWbYXNFf1h1q/4UFW/H16fk8GVqA9IkgwBoKJuLwzaGMSbovsmr8BNWE443DVw+5zwKz7IkoozYUUonuWJBrimYbbebUWtqxIalR5GTfSE2Xp3DWrs5YFLelFQXqL+RCWr4fYGbvKyGFNh1JnDXaQOE0KB01MPhzcwE5Yi/MERA6Lh3DeQsXaIKEiSZKglGUI0htkqaFQ66DVGxOoTIu6E/merq4s3aRGFUeNNXlZ7CerdNQ03eUVmq6Ui/HC4bXB66+DxOQFIDS2tnL41mkTWtxERRYymYdbhrkWdyxoMszH6+LBfUqt31aDG0djqyvBKFAlkWQ2f34NS2x6YdYmINSRGxE1efsUXmJjBZ4fX54SEwHlDlhiDohVrjoja1TzMVjeEWVOfh1m2uhJFNkmSoIIa9W4rHJ7asN3k5fG5m9yE5Q6OHMBJBfoHBlgi6pQ/w6zS52G23mVFrbMcElRsdSWKcH/e5FUEozYWFlNqoM99LxFCwONzwu6uhdvngE/xQtUwfWu4rxhRz2OAJaIuCw2zNtS7qqHuhTDr83tRbd8Pj98FFS/5EUUVlayC01sPV40dFmNKj97kJYQCl8cOu9cGj9cBRSgcOWCA4DcBEfWIwNiQmmZhVqcxIUZrgUbdtVl76l3VqHVWQIKK4ZUoSsnBm7xKu32T1583YdXD7XVCksCbsAYgfhsQUY9rGmadbhvsXQizbHUl6n8CM3l5UGYLzOQVq+/YTV5+xReYOMFrh9fnggQJsqxiP/gBjN8KRNSrmodZK9QqTUOYjW8xzAZaXSshQWZ4JepnJEmCBBXqXNVwuG2Ij0mHTt38Ji+vzwO7pwYurwM+vwtS8CYsnhOIAZaI+lDjFJRCCDjddbC7ahrCrBGyXw+/4kNFfRHUGimqZ/QhovbJkgoCAhW2vTBp4xBnSoHP50a9uwYenxM+xRvsz8qRA+hADLBEFBahYbYeTlcZ7KICihIDWdKHu3hE1EdUshoObx3s1loAAnLDyAFsaaW28N1BRGHX2MIiQxURg54TUd9qnNKaqKP4biEiIiKiqMIAS0RERERRhQGWiIiIiKIKAywRERERRRUGWCIiIiKKKgywRERERBRVGGCJiIiIKKowwBIRERFRVGGAJSIiIqKowgBLRERERFGFAZaIiIiIogoDLBERERFFFQZYIiIiIooqDLBEREREFFUYYImIiIgoqjDAEhEREVFUYYAlIiIioqjCAEtEREREUYUBloiIiIiiCgMsEREREUUVBlgiIiIiiioMsEREREQUVRhgiYiIiCiqMMASERERUVRhgCUiIiKiqMIAS0RERERRhQGWiIiIiKIKAywRERERRRUGWCIiIiKKKgywRERERBRVGGCJiIiIKKowwBIRERFRVGGAJSIiIqKowgBLRERERFGFAZaIiIiIogoDLBERERFFFQZYIiIiIooqDLBEREREFFUYYImIiIgoqoQ1wO7btw8XXnghJk6ciJkzZ+KBBx6AoijN1lMUBY888ggOP/xwTJo0CQsXLsRHH30UhhITERERUbipw7VjIQQuv/xyjBgxAl9++SUqKyuxdOlSJCUl4fzzzw9Z96WXXsIbb7yB559/HllZWfjqq69w2WWXYejQoRg5cmSYjoCIiIiIwiFsLbB5eXnYvn07br31VsTFxWH48OFYunQpXnnllWbrbt26FZMnT8bQoUMhyzLmzp0Ls9mMbdu2haHkRERERBROYQuwW7ZsQUZGBiwWS3DZ2LFjUVBQgPr6+pB1586di59//hnbtm2Dz+fDZ599BrfbjenTp/dxqYmIiIgo3MLWhcBqtSIuLi5kWePfVqsVMTExweV/+ctfsGXLFpxwwgkAAIPBgPvvvx/p6emd2qcQAg6Ho5sl7xin0wkAcLvdfbI/6pjG+mC9RB7WTWRivUQu1k1k6m/14vd74dA4oVH5+2R/QghIktTuemELsB0pXKN169bhnXfewbp16zB8+HB8//33uOaaa5Ceno7x48d3eDterxdbt27tSnG7rLS0tE/3Rx3DeolcrJvIxHqJXKybyNRf6kUIP6pULqikvouMWq223XXCFmATEhJQU1MTssxqtQYfa+qFF17AokWLMHr0aADAnDlzMGPGDKxbt65TAVaj0WDEiBHdK3gHOZ1ObN5dhrS0NOh0uj7ZJ7XP7XajtLSU9RKBWDeRifUSuVg3kam/1Yvf70VSbBY0qvZDZU/YtWtXh9YLW4DNzc3F/v37YbVaER8fDwDYtGkTRowYAZPJFLKuEKLZ8Fo+nw+y3LkuvJIkwWg0dq/gnaTT6frFG7i/Yb1ELtZNZGK9RC7WTWTqL/XiU2QYjQZoVH1zLB29Qh+2m7hGjx6N8ePHY+XKlbDZbNi+fTtWr16Ns846CwBw1FFHYcOGDQCAww8/HG+88QZ27twJv9+P77//Ht9//z3mzp0bruITERERUZiErQUWAB555BHcfvvtmD17NkwmExYvXozFixcDAPLz84M3XC1btgw+nw+XXHIJqqurMWjQIKxYsQKzZs0KZ/GJiIiIKAzCGmDT0tKwevXqFh/bvn178N8ajQZXX301rr766r4qGhERERFFqLBOJUtERERE1FkMsEREREQUVRhgiYiIiCiqMMASERERUVRhgCUiIiKiqMIAS0RERERRhQGWiIiIiKIKAywRERERRRUGWCIiIiKKKgywRERERBRVGGCJiIiIKKowwBIRERFRVGGAJSIiIqKowgBLRERERFGFAZaIiIiIogoDLBERERFFFQZYIiIiIooqDLBEREREFFUYYImIiIgoqjDAEhEREVFUYYAlIiIioqjCAEtEREREUYUBloiIiIiiCgMsEREREUUVBlgiIiIiiioMsEREREQUVRhgiYiIiCiqMMASERERUVRhgCUiIiKiqMIAS0RERERRhQGWiIiIiKIKAywRERERRRUGWCIiIiKKKgywRERERBRV1OEuABERUV8QQsDqKIXb64BOY0S8MQ2SJIW7WETUBQywRETU75XZ8rG99Cc4PbbgMoPWjJFp05FqHhrGkhFRV7ALARER9Wtltnz8tvfzkPAKAE6PDb/t/RxltvwwlYyIuooBloiI+i0hBLaX/gRAtLYGdpT+BCFae5yIIhEDLBER9VtWR2mzltcDOTw21DhK+6hERNQTGGCJiKjfqnNWd2g9l8/RyyUhop7Em7iIiKjfqXVWoKAyD6W1uzu0vtfn6eUSEVFPYoAlIqJ+QQiBirpCFFTmwdrJLgFbS75BSe1OZCflIiU2C5LEC5REkYwBloiIoppP8WK/dScKq/LgaNLfVSWrkRE/EiatBVtLvkNrN3LJkgqK8KPGUYbf9pbBoDUjK3EcMiw5UKs0fXQURNQZDLBERBSVXF47iqq3oKh6K7x+d3C5Tm1CVuJYDE4YBY1KF1imMWBH6U8hAdeoNSMnbToSTIOwz7odeys3w+Wzw+mxYVvJd9hVtgFDEkYjM3Es9BpTnx8fEbWOAZaIiKKKzVmFwqo8lNTuhhBKcHmsPhHZSeORZh4KWVaFPCfVPBQpsdmBmbh8DujVRliazMQ1NGk8shLHoax2Dwoq82BzVcKneJBf+TsKKjchLW44spPGw2xI7NNjJaKWMcASEVHEE0Kgsn4fCivzUGUvDnksOTYT2Ym5iDeltzk1rCRJSDClt/q4LMlIt4xAWtxwWB2lKKzMQ3ldIQQESmp3oaR2FxJM6chOGo+kmCGchpYojBhgiYgoYvkVH0pqdqGgKg92d01wuSypkBGfg6zEcTDpLD26z8agm2BKh91dg8KqP1Bs3Q5F+FFtL0G1vQQmbRyyknIxyHIQVDK/Son6Gj91REQUcdw+Z6B/a9UWePyu4HKt2oDMhDEYkjAGWrW+18th0lkwZtChGJEyBfuqt6Kw+g94fE7YPbXYsv8b7Az2kx0DndrY6+UhogAGWCIiihj1LisKqzZjf81OKMIfXB6ji0d2Ui7S4oaHpcVTq9ZjWMokZCeNR0ntbhRU5aHeVQ2v34U9Fb8iv/J3DIobgeykXMToE/q8fEQDDQMsERGFlRAC1fb9KKjMQ2V9UchjiTGDkZ2Yi8SYjIjocyrLga4LgywHhZRZCAXFNTtQXLMjUOakXCSaIqPMRP0RAywREYWFovhDWjMbSZKMQXEjkJWUi9gIbc2UJAmJMRlIjMlAvcuKgqo8lNTsgiL8qKrfh6r6fcFW4/S4Ec1GRSCi7mGAJSKiPuXxubCveiv2Vm+B2+cILteodBiSMCbq+pPG6OMxLuMwHJQ6LaTfbr3bis3FX2FH2c992m+XaCBggCUioj5hd9cG+rdad8AvfMHl/eWOfp3agBEpUzA0aULIyAkenxO7yn/Bnorfem3kBKKBJnrPFEREFPGEEKhxlKKgYUzVphJM6chKzEVybGa/6iuqktUYnDAKGfEjUVm/DwWVm1Bt3w9F+FFUvRVF1Vs7PHYtEbWMAZaIiHqcIpTArFZVebA5K4PLJUgNs1rlwmxICmMJe58kSUiOHYLk2CHNZg+rqNuLirq9MOuTkJWUi7S4YZAlOdxFJooaDLBERNRjvH4P9lm3YW/VZri89uBytaxtGC91LPQaUxhLGB5mQyJyB88N9pPdW70VPr8bNlcl8vb9FztKf0JW4lgMThgFjUoX7uISRTwGWCIi6janpw6FVZuxz7odfsUbXG7QxCIraRwyLCOhVmnCWMLIoNeYcFDqNAxNnoj91p0orMqDw2OD22fHjrKfsLtiIzLiRyIrcRyMWnO4i0sUsRhge4EQAhV1haj3l6PGaUCKNnrnzBZCwOoohdvrgE5jRLwxLWqPhYg6RwiBGmdZw7lM3+K5rMZRhoLKPJTZCgCI4HKLMRXZSblIic2CxEvjzahlDTITx2BIwihU1O1FQWUerI5S+BUf9lb9gb1VW5BqzkZWUi7ijanNnt+RuiHqjsbvf4fHBkmSkGHJiaj3WLcDrM/ng1rNHNyosHIzNhR8iDpXFQCgYt82GMrNGJk2HanmoWEuXeeU2fKxvfQnOD224DKDNjqPhYg658DPf8W+rcFzWUpsFspshSisykONo6zJsySkmYciKykXFmNKeAoeZSRJRoo5GynmbNQ6KwI/Bmr3QECgzJaPMls+4gwpgR8D5mzIktxm3fDcTD3hwPfYH8VfIVafiKnZRyMraVyYSxcgCSFE+6uFUhQFTz31FF555RVUVVXh999/h9PpxD/+8Q/cdNNN0Gq1vVHWbsnLywMA5Obm9to+Cis343/bXoRASy+phImZR0TNyaXMlo/f9n4O9INjacrtdqOwsBBZWVnQ6djPLJKwbiJH259/QKvSw+N3Bf9WyRoMbrjsbdDG9lEp+y+npx57q//Avuqt8IV0x4hBvGkQ9tfsRH87N/cn0X4ua+vzL0HC3FFn9WqI7Whe69J1naeeegovvvgizj77bDTmX4fDgY0bN+Lhhx/uyiajnhACGwo+bCW8AoDAjtKf0IXfC31OCIHtpT+htS+vaDoWIuqc9j//CIZXvcaEkWkzMGfkYoxKn8nw2kMM2pjg6zoy7WDoNTEAAKe3HvtrdoDnZuot7X3+BRqyTgS8x7p07X/dunV44oknMHbsWDzyyCMAgMTERDz88MM4//zzceONN/ZoIaNBmS0/2G2gNQ6PDf/b9mLED9TtV3zw+J1truPw2FDjKEW8Kb2PSkVEfcHqKA3pNtSa4SmTMSx5Eod+6kVqlRbZSbnITByLclsBdpX9Arunps3n8NxM3dGRz3+dqwrltgKkxoW3pb9LSaqkpARjxoxptjwrKwtWq7XbhYpGDk9dh9bz+J2Av5cL00dcTaaAJKL+oenQV20x6SwMr31ElmSkxQ2DEAKb9n3R7vo8N1NHCSHg8tajxlGOGmcZKmx7O/Q8Rwd+5Pa2LgXY+Ph47NixAyNHjgxZ/v333yMpqX8PTN0aYwcvnaWYh0b8GIgurx3ltvx21yutzUecIZlDvRD1A37Fh/01O7C7/LcOra9XG3u3QNSMTtOx17zWUY7k2EyoZQ5bRqH8ig82VxVqHWWwOspQ6yiHuws/eCLhe79LAfbUU0/F3/72NyxZsgSKouDjjz/G5s2b8corr+D888/v6TJGhVTzUMTqE9vsRmDUmjFxyBERNQxFS4QQ+Hrna+1eRii35QcuI5izkZ2UC0sLQ70QUWRzex3YW70FRdVb4PW7O/Qco9YMizGtl0tGB4o3psGgNbd7bi6s2oz9NTsxJGE0hiSMifhGE+o9wdZVRxlqHOWwuSohhNLiuhqVDnGGZNQ6K9o8F8TqE5Fizu6lEndclwLsX//6V+h0OjzxxBPwer248sorkZSUhGXLlg3YACtJEqZmH93mKAQ5adMjPrwCgWMZmTa9zbuQLcZU1DrKQ4Z6sRhSkJU0HqlmjvtIFOnqXNUorMzD/tpdIV9osfoExBvTsbd6C1q70z1azmX9TUfOzQZNLJzeOnj9buyp+A35lZuQHjccWYm5MBsS+7bA1KcUxQ+bq6ohrAZaV12+1rsExegSYDGmwGJMhcWYAqM2DpIktTsKwdTsoyPi89+lYbSaqq+vBwDExMT0SIF6S18MowU0HwcWCLRW5ETh+HxltnzsKP0ppK9L02MJzLzzB/ZZtzWfeSdxHDLic6BWRdaQatE+vEl/xrrpfUIIVNXvQ0FlHqrsxSGPJccOQVZiLhJMg4JfYm19/il82qqblNhsWB2lKKjchIq60P6MCaZByE7KRVIMJz3oTX11LnN7HcGwWuMsh81ZCUW0fJONWtbCYkxBXENYjTOkQNPG93NL77G+Gge2o3mt0wHW5/NhxowZ2LBhQ1R9APoqwAKBL4m95duwec+PyEjPQkpc9J4sgjNx+RzQq42wtDATl69h7vPCqj/g8tYHl6tlLQYnjEJW4tjgMDDhxpAUuVg3vcev+FBSuxuFlXmod/95o60sqTDIchCyEschRh/f7HlCCJTXFqG4ZC8y0jOj+lzW33SkbuzuGhRWbUaxdUdIsDHpLMhKzMUgy4iIHxUnGvXGuUwRCuqCrauBLgFNv28PZNJZAi2rhkALq0ln6fRnt/H73+mpQ7plOAZZDuqTz39H81qn37lqtRoHHXQQNmzYgGnTpnWtdP2cJElIjs1CjCofFkNqVJ/wJUlCQjvDsQSGehmPzMRxKLflo6AyD7XOCvgUDwoqN6GwMg9pccOQnTQeZsPAvMmPKBw8PieKqrdib9WWkKHxtCoDhiSOQWbCaGjVhlafL0kSLIZU1KpcUX8u6286UjcmnQVjBs3CiJSpgfdB9R/w+Jywu2uwZf/X2FX2M4YkjMGQxDHQtfE+oL7n9jlDbrSqdVa00bqqQVxDUI0zpsBiTIFG1f3g3Pj97zMkIcWcFXGf/y799Jo1axZuuOEGjBkzBpmZmdBoQu90vOaaa3qkcBRdAkO9DEeqeVhgfvSqPJTbCiAgUFK7GyW1uxFvTEd2Ui6SYzMj7sNA1F/Uu2sC/VtrdjZrectOzEU6W94GFK1aj+EpkzA0aTxKanejoDIP9e5qePwu7K7YiPzK35FuGYHsxNwWW+KpdylCQb2rOqR11eltfWhOkzYu2BXAYkxFjM4yIO876dIZ7K233oIkSdi6dSu2bt0a8pgkSQywA5wkSYg3pSHelAaH24bCqjwUW3fAL3ywOkpg3VsCo9aMrMRcZMTn8IuUqAcIIVBtL0Fh1SZU1BWFPJZoykBWUi6SYgbzh+MAJssqZMTnYJDlIFTZi1FYmYfK+n1QhB/F1u0otm5HUswQZCf92Reaep7H5/ozrDrLYHNWwK/4WlxXJWsQZ0gOhtU4Qwq0an0flzgydSk5fPFF+wMpEwGAUWfG6EGHYkRqwyWsqj/g9jng8NiwteRb7CrfgCEJo5GZMLbDYxwS0Z8UxY/S2j0oqMoLuXlUkmSkx41AdlIuYvUJYSwhRRpJkpAUMxhJMYNR76pGQcOwW0IoqKwvQmV9EWL0CYHW+rjhkGVVuIsctYRQUO+2hrSutjUJQGCIuhTEGVJhMaYiVh8/IFtXO6LLTV/19fX473//i8LCQgDAsGHDcPjhh8NgYD8aak6j0mFY8kRkJ+ai1LYHBZWBL9vQoV5GIDtpHGL1HOqFqD1evzvkR2EjjUqHIQljkJkwhj8KqV0x+gSMyzgMB6VORVHVVuyt3gKv34V6VzU2F3+JnWU/IzNhDAYnjGbLXwd4fC5U2Yth9eXDum876txVIaP0NKWS1DA3aV21GFPa7JNOoboUYPPz87F48WLU1NTAYrFAURTYbDYkJyfj5ZdfRkZGRk+Xk/oJWQ7c9ZweNyLkcqcQCvbX7MD+mh283EnUhgO75TRitxzqDp3aiBGpUzA0eQL21+xEYWUe7J5auH0O7CzfgD0Vv2FQfA6yEsfBpIsLd3EjghACdrcVVkc5ahuGsrK7a/5cwRm6vkETGxzKKt6Yihh9Aqdj7oYuneXuu+8+zJ07FzfeeCMsFgsAoLKyEvfeey/uv/9+PProoz1ZRuqHJElCYswgJMYManbDSZW9GFX2Yt5wQtRACBFyY2RTvDGSepJKVmNIwmgMjh+FyvoiFFTmodq+H37hQ1HDjG0psVnISspFfAvDKvZnXr8btY7yYN/VWkdgtJ2WSJBh1ichPiYtOJwVr4j0rC6lgj/++AMfffRRyOQFSUlJuPXWW7Fw4cIeKxwNDDE6C8ZmzA5cwmoy5I/dXYM/9n+NnWUbOjTkD1F/owgFZbZ8FDYMTddIgoS0uGHISspFnCE5jCWk/iowHGQmkmMzYXNWorAqDyU1uyEgUF5XiPK6QpgNSchOzEVq3LB+15IohIDdUxsyq1XTMZQPpNfEBLsCGNXxqC6tQ/aQoRzTuhd1KcD6/f4Wf3VptVrY7a1PW0bUFq3agOEpk5HdMNRL46DrHr8Tu8t/QX7Fb20Ouk7UX7Q3OUhmwlgYtJExOQj1f2ZDEnIHH46DUqdjb9UfKKreCp/igc1ZiU37/gt92U/ITByHwfGj2pzdKZL5/B7UOiuajA5QDp/f3eK6kiQjTp/UMJRVoO+qXmMKPu52u2GVmIV6W5cC7JgxY/B///d/uP7666HVBt6sbrcbDz/8MMaN690pxqj/U8lqDI4fiQxLTsi0l4rwY591G/ZZt3GoF+qX2pyeOWkcMiyRNz0zDRx6jQk5adMxLHkSimt2oLBqM5weG1xeO3aU/ojd5RsxOH4kMhPHwqg1h7u4rRJCwOGpDY4KUOMsR73LCqDliUl1alPIjVZmfRJHZogAXQqwN9xwA84991y89dZbyMjIgBACxcXF0Ol0WLNmTU+XkQYoSZKQFDsESbFDUOeqDvSTrd0VMtRLrD4R2Ym5SIsbxhMKRa0aRzkKq/JQVpsP0eRL1GJIQVbSeKSasziUDkUMtUqDrMSxyEwYjfK6QhRU5qHGUQa/4kVh1WYUVv2BVHM2spNyYTGmhru48Pm9qHVWBG+0qnGUw+t3tbiuJMkw6xODYTXOkMqrHRGqSwF25MiR+PTTT/Huu+9i7969kCQJ2dnZWLhwYUi/WKKeEqtPwLjBc3BQ6jTsbbiRwOt3o85Vhbzi/2FH2U/ITByLwfGjONQLRQUhlJAv/z9JEfXlT9QaSZKRah6KVPPQZj/Cymz5KLPl9/mPMCEEnJ461Dj/HHe13lUd8sOwKa3a0BBWAzdamQ1JvGk4SnS5lrRaLY4//niYzYHLBGVlZZBlthBQ79JpjDgodSqGJU/E/podKKjcDEfjUC9lP2NP+a+tDvUihECNswz1/nLUOPVI0Q5h9wPqcUIIWB2lcHsd0GmMze7U9vm9IZdfG6lkTVRcfiVqSeAS+xFwpoZ2g6lxlqOm6LNAN5jEcciIb94Npr3PTFv8ii/Yd7VxhACP39niuhIkxDZpXbUYU6HXxPB7IEp1KcBu27YNF1xwAW699VYcc8wxAIAPPvgATz31FJ555hmMGjWqQ9vZt28f7rjjDvzyyy8wGAw4+eSTce2117YYhHfv3o3bb78dmzdvRnx8PJYsWYIlS5Z0pfjUDwSGehmDwfGjUVG3FwVVebDaS5oN9ZKdNB4WYyrK6wqwvfSnYGCo2LcVhnIzRqZNR6p5aJiPhvqLMlt+yPsMAAzawPsszpAScgNMI73ahMyk6L4BhqiRQRuLUekHY0TK5JAbEZ3eOmwr/R67yn/B4IRRyEocC70mps3PzIHnZiEEXN76kGlY65xVrbeuqvQNN1o1TsOazNbVfqRLNXnvvffi2GOPxWGHHRZcdtZZZ6G2thb33HMPnn/++Xa3IYTA5ZdfjhEjRuDLL79EZWUlli5diqSkJJx//vkh67rdblx88cW45JJL8Mwzz+C3337DihUrMHv2bAwfPrwrh0D9hCRJSDFnIcWchVpnBQorN6O0NnSoF4PWHHJybOT02PDb3s8xMfMIhljqtjJbPn7b+zkOvBEk8D77rNn6Zn0SspP65xBERGqVFtlJ45GZOA5ltnwUVObB5gyMm1pQuQmFlXmwGFNgDek+E9B4bh4/+HDoNaaGfquBFtams86FkhCrT/izddWQCoM2lq2r/ViXAuzmzZvx1FNPQaPRBJfpdDpcdtllmDlzZoe2kZeXh+3bt2Pt2rWIi4tDXFwcli5dirVr1zYLsB9++CGGDh2KRYsWAQBmzJiBDz/8sCtFp34szpCM8UMOR07atMAlrOpt8CmeFsPrnwR2lP6ElNhsnuioy4QQ2F76E1q7i7mpgToIPA1MsiQjPW440szDQibjEBAthtc/CWza90Wrj2pUumC/1biG1lW1StPq+tT/dCnAarVaVFdXIzU19AaD0tJSqNUd2+SWLVuQkZERnMkLAMaOHYuCggLU19eH3Ay2YcMGDB06FFdccQW+/fZbpKam4vLLLw92X+goIQQcjtZ+vfUspzPQB8ftbnkcOeo9EjTIjp+IwXFjkV/5K4prt7W5vsNjQ3ltESwG3jATTo2flWj8zNQ4y9r5oRQwOnUWUs3DAAAeT8sz+ESaaK6X/i7a6saojseY1MMwNH4SdlduQKW9qMPPNWnjYdYnI86QDLM+GQZNaOuq36fA74uM1yHa6qU9fr8XDo0TGpW/T/YnhOjQj/suBdi//OUv+Nvf/oalS5di8ODBUBQFu3fvxpo1azB//vwObcNqtSIuLvQmm8a/rVZrSIAtLS3Fpk2b8M9//hP/+Mc/8MEHH+Daa6/F0KFDMXr06A6X2+v1YuvWrR1evyeUlpb26f4olMffsRauvH3/hUFOgE4yQy+ZoZGMbB0Lk2j8zNj8+zu0XmVlFVzW6BzuLRrrZaCIxrqR/B0bsShOzoRFNQQy1IALcLuAClgBtD4rVqSIxnppiRB+VKlcUEl913+4cY6BtnSpNMuXL8c999yDq666Kjgrl0qlwgknnIDly5d3aBudCQc+nw9z584N9rk95ZRT8Nprr2H9+vWdCrAajQYjRozo8Prd4XQ6sXl3GdLS0jiVXBjVOPWo2Nf+jxY/PKhXSlGPwAlHJWtg1icFfvHrkxGrT+YNNr3M7XajtLQ0qj4zdncNimq2oMq2u0PrZ6RnRl1LfzTWy0ARzXXT0XPz0EGj+ZkJM7/fi6TYrD77Dty1a1eH1utyF4KVK1fipptuQlFREX766SeYzWbMnTsXJpOp/Q0ASEhIQE1NTcgyq9UafKypuLg4xMbGhizLyMhAZWVlp8otSRKMRmOnntNdOp2uX7yBo1WKdggM5S3fxNVIo9IjwZSOWmdFcNpOv+KF1VECq6MkuF6MLh5xwdlYUmHSxrGVthdE+mdGCIEqe3Fghrj6fR1+nlFrRkpc9A7dFun1MpBFY9105NzMz0xk8CkyjEYDNKq+OZaO1nenAmxtbS0uueQSXHDBBZg/fz5MJhOeffZZvPvuuxBCICkpCa+99hoGDRrU7rZyc3Oxf/9+WK1WxMcH5rXftGkTRowY0SwEjx07Fl98EdqZu7i4GLNnz+5M8WkAkiQJI9Omt3h3eMMaGJsxKzgKgctrDw5+XesoQ62rEkIoAIB6txX1biuKrdsBAGqVDhZDSsgQLZzms/9SFD9KanehoDIP9e4/L1/KkgrplhGI1SVgW+kPaO19lpM2PWq/iIl6WkfOzfzMUFs6NXbLgw8+CKfTiZycHACB8WDfeecd3HPPPfj+++8xbdo0PPPMMx3a1ujRozF+/HisXLkSNpsN27dvx+rVq3HWWWcBAI466ihs2LABAHDiiSdi+/bteOWVV+B2u/Huu+/ijz/+wPHHH9+Z4tMAlWoeiomZRzQbHN6oNTcbQkuvMSEtbihGpR+MGcNPwJGjl2DGsOMxMu1gpJqHQqf+88eVz+9GZX0RdpX/gg0F6/H51ufx7a438Ufx1yi27oDdXQMh2r8rnSKbx+fC7vKN+HLHy9hc/FUwvGpVegxPmYzDRp6JcRmHIStpXIffZ0TUuXMz0YE61QL77bff4rHHHkN2djYA4LPPPsOIESNw0kknAQCuvPJKXHLJJR3e3iOPPILbb78ds2fPhslkwuLFi7F48WIAQH5+fnDEgJSUFKxevRp333037r33XmRmZuKJJ55AZmZmZ4pPA1iqeShSYrNRXluE4pK9yEjP7NClKVlWBbsMALkAAKenHrXOMlgd5ah1lMHmqmpopRWod1Wj3lWNfdbAyAcalb5hTEIO9RJt7O4aFFZtRrF1BxTx5923Jp0F2Ym5SLeMaDYoeuP7zOoohdvngF5thIXDZRG1ip8Z6qpOBdjq6uqQWbZ+/fVXHHLIIcG/s7KyOtUvNS0tDatXr27xse3bt4f8PW3aNKxbt64zxSUKIUkSLIZU1KpcsBhSu3yCNGhjYNDGIC0uMImGX/HB5qwMDrZd4yiDxxcYRs3rd6Gibi8q6vYGygAJMRxsO2IJIWC1l6CgKi9YZ40STIOQnTQeSTGD26wvSZKQYErv7aIS9Rv8zFBXdCrAajQa+P1+qNVqKIqCTZs24bTTTgs+7vP5eryARJFOJasRb0pDvCkNQAvTHTrKUOcKTHcoIFDnqkKdqwpF1VsAAFqVARZjSvAGMU532PcUoaC0dg8KK/Ngc/35I1xqGIQ9KzEXZkNiGEtIRERNdepbMiMjAxs3bsT06dPx9ddfw263Y9q0acHHt2zZ0mxyA6KBRpIkGLSxMGhjkW4JDNvmV3yodVYEQ22towwevwsA4PE7g9PeAoFW2lhDIiyGP+fw1mti2ErbC7x+N/ZVB+Zrd/vsweVqlQ6ZCaMxJGEM9JqOjaxCRER9p1MB9vjjj8e1116L+fPn45NPPsGcOXOQmBholSgqKsLdd9+NuXPn9kY5iaKaSlYjwZQevEwmhIDTU4caZ9NW2mqgoZXW5qyEzVmJvdV/AAB0auOfQ3gZUmA2JLGVthscHltD/9bt8Ct/Xjkyas3ISszFoPiDoJbZV5mIKFJ16hvwnHPOQXFxMb777jtMmzYNt956a/CxZ599FjabDcuWLevxQhL1N5Ikwagzw6gzY5DlIACAz+9FrbMCtY6yYH9ar79hSkKfA+W2ApTbChqeL8OsT2pooU1BnCEVBm3HZrYZyKyOMhRW5qHMVoCmQ/fEG9OQnZSL5NhMSFKnBmchIqIw6FSAVavVIaG1qYsuugg33XQTNBq2WhB1hVqlQWLMICTGBMZRFkLA4akNttDWOMtR76pueExBrbMctc5yFFYFnq9Tm4JdDizGFJj1SZDl6Jy2tCcpQkG5rQAFlXmodZYHl0uQkBo3DNmJuYgzJoexhERE1Fk9dg2yI5MXEFHHSZIEk84Ck86CjPjA2Ms+vyekL22Noww+xQMAcPvsKLPlo8yWDyAwwL7ZkBQcwstiTBlQ/Tl9fg/2Wbdjb9VmOBtmWAMAtazB4ITRyEwYy1ZrIqIoxU50RFFErdIiMSYDiTEZAAKttHZ3TcgQXnZ3DQBAEf7gMlTlAQD0mpiQIbxiDYmQ+9klc6enHnur/8C+6q3wKd7gcr0mBlmJ4zA4fiRnTCMiinIMsERRTJIkxOjjEaOPx+D4kQACd9bXOsoDLbTOMtQ6yoNBzuWtR2ltPUprdwNo0krbMFmDxZgCndoYtuPpjlpnBQoq81BWuweiSf/WOEMKspNykWLO7ndhnYhooGKAJepnNCodkmKHICl2CIBAK2292xocvqvGWd5yK20Dgyb2z1ZaYypi9AkRG/yEUFBRtxcFlXmwOkqbPCIh1ZyNrKRcxBs5tB8RUX/DAEvUz0mShFh9AmL1CRiSEJhJz+NzodZZHuxHW+usgL+hldbprYOztg4ltbsAACpJDbMhOSTUatX6sB0PAPgUL/Zbd6KwKg8Ojy24XCWrkRE/ElmJ45rNr05ERP0HAyzRAKRV65Ecm4nk2EwAgZbMOpcVtU3GpW0Mhn7hg9VRAqujJPh8o9YcDLNxhlTE6uP7ZPgpl9eOouotKKreGhxiDAiMwJCVOBaDE0ZBo9L1ejmIiCi8GGCJKDCurCERZkMihiSMAQB4fM6GMBvoS2tzVMAvAoP+Ozw2ODw27K9paKWVNYhr0kobZ0jpVCutEAI1zjLU+8tR49QjRTskZOYxm7MKhVV5KKndDSGU4PJYfSKyk8YjLW5YxHZzICKinscAS0Qt0qoNSDFnIcWcBSAwnmq9qzpkCC+ntw4A4Fe8qLbvR7V9f/D5Jm1cw/BdgVAbo4tvcTrcMls+tpf+BGdDi2/Fvq0wlJuRkzodKlmNgspNIdsFgOTYTGQn5iLelM4pdomIBiAGWCLqEFmSYTYkwWxIQmbiWACBGcKC/Wgd5ah1VkARfgCA3VMLu6cW+2t2AAiMvxpn+HOihThjCqrt+/Hb3s/RdFYsAHB6bPi96LMD9q9CRnwOshLHwaSz9PrxEhFR5GKAJaIu06mNSDVnI9WcDSDQSlvnqgpppXU1TCLgU7yoshejyl4cfL4EGQeG1wNpVHpkJY7FkIQxYb95jIiIIgMDLBH1GFmSEWdIRpwhGVmJgWUurz1kCC+bszLYSiugtLG1gAmD5yExNqM3i01ERFGGAZaIepVeY0Ja3FCkxQ0FACiKHzZXFfZW/REcqqstHsXV20UkIqIowwBLRH1KllWwGFOgCH+HAqw+SmcGIyKi3sNxZ4goLOKNaTC0M9lAYLzZtD4qERERRQsGWCIKC0mSMDJtOoDWhsGSkJM2ncNkERFRMwywRBQ2qeahmJh5RLNpX41aMyZmHoFU89AwlYyIiCIZ+8ASUVilmociJTYb5bVFKC7Zi4z0TKTEDWHLKxERtYoBlojCTpIkWAypqFW5YDGkMrwSEVGb2IWAiIiIiKIKAywRERERRRUGWCIiIiKKKgywRERERBRVGGCJiIiIKKowwBIRERFRVGGAJSIiIqKowgBLRERERFGFAZaIiIiIogoDLBERERFFFQZYIiIiIooqDLBEREREFFUYYImIiIgoqjDAEhEREVFUYYAlIiIioqjCAEtEREREUYUBloiIiIiiCgMsEREREUUVBlgiIiIiiioMsEREREQUVRhgiYiIiCiqMMASERERUVRhgCUiIiKiqMIAS0RERERRhQGWiIiIiKIKAywRERERRRUGWCIiIiKKKgywRERERBRVGGCJiIiIKKowwBIRERFRVGGAJSIiIqKowgBLRERERFGFAZaIiIiIogoDLBERERFFFQZYIiIiIooqDLBEREREFFUYYImIiIgoqjDAEhEREVFUYYAlIiIioqjCAEtEREREUYUBloiIiIiiCgMsEREREUUVBlgiIiIiiioMsEREREQUVRhgiYiIiCiqMMASERERUVRhgCUiIiKiqMIAS0RERERRhQGWiIiIiKIKAywRERERRRUGWCIiIiKKKgywRERERBRVGGCJiIiIKKowwBIRERFRVGGAJSIiIqKowgBLRERERFGFAZaIiIiIokpYA+y+fftw4YUXYuLEiZg5cyYeeOABKIrS5nPKysowadIkrFq1qo9KSURERESRRB2uHQshcPnll2PEiBH48ssvUVlZiaVLlyIpKQnnn39+q89buXIlZJkNx0REREQDVdiSYF5eHrZv345bb70VcXFxGD58OJYuXYpXXnml1ed8+eWX2L17Nw4//PA+LCkRERERRZKwBdgtW7YgIyMDFosluGzs2LEoKChAfX19s/VdLhf+/ve/Y8WKFVCrw9ZwTERERERhFrYkaLVaERcXF7Ks8W+r1YqYmJiQxx5//HFMmzYN06dPx1tvvdWlfQoh4HA4ulbgTnI6nQAAt9vdJ/ujjmmsD9ZL5GHdRCbWS+Ri3USm/lYvfr8XDo0TGpW/T/YnhIAkSe2uF7YA25HCNdq1axfefvttvPvuu93ap9frxdatW7u1jc4qLS3t0/1Rx7BeIhfrJjKxXiIX6yYy9Zd6EcKPKpULKqnvIqNWq213nbAF2ISEBNTU1IQss1qtwccaCSGwYsUKXHXVVSHLu0Kj0WDEiBHd2kZHOZ1ObN5dhrS0NOh0uj7ZJ7XP7XajtLSU9RKBWDeRifUSuVg3kam/1Yvf70VSbBY0qvZDZU/YtWtXh9YLW4DNzc3F/v37YbVaER8fDwDYtGkTRowYAZPJFFxv//79+Pnnn7Fz50488MADAACHwwFZlvHFF1/g7bff7vA+JUmC0Wjs2QNph06n6xdv4P6G9RK5WDeRifUSuVg3kam/1ItPkWE0GqBR9c2xdPQKfdgC7OjRozF+/HisXLkSd9xxB0pKSrB69WpceumlAICjjjoKK1euxKRJk/Dll1+GPPfee+9FWloaLrroonAUnYiIiIjCKKy38z/yyCO4/fbbMXv2bJhMJixevBiLFy8GAOTn58PhcEClUiEtLS3keQaDATExMUhOTg5HsYmIiIgojMIaYNPS0rB69eoWH9u+fXurz7vvvvt6q0hEREREFOE4pRURERERRRUGWCIiIiKKKgywRERERBRVGGCJiIiIKKowwBIRERFRVGGAJSIiIqKowgBLRERERFGFAZaIiIiIogoDLBERDRhCKPArvnAXg4i6iQGWiIgGBCEUaNQGJMVmQKPWQxEKFOEPd7GIqAvCOpUsERFRX1CEHzq1EYkxGZAkCXpNDIQQcHnqYffUwu1zAABkSRXmkhJRRzDAEhFRv6YIP/QaExJMgyBJUnC5JEkw6GJh0MVCCAUOTx0cHhs8PgcgJMgywyxRpGKAJSKifisQXmOQGDOozfUkSYZJFweTLg6KUOBw18LhqYPH54QkyZAl9rgjiiQMsERE1C8pwg+jxoz4mLROPU+WZMTo4xGjj4ci/LC7auHw1sHrczHMEkUIBlgiIup3FOGHUWdGvLFz4fVAsqRCrCEBsYYE+BUf7O4aOL318PhcUEkqSAyzRGHBAEtERP2Kovhh0ltgMab06HZVshpmQxLMhiT4FR/qXNVwee3w+d2QJXVI/1oi6l0MsERE1G8oih8x+njEGZN7dT8qWR0MyF6fB/Wearg9DngVD1QMs0S9jgGWiIj6Bb/ih1mfALMxqU/3q1FrEa9OA4yAx+dGvbsabq8DfsXLllmiXsIAS0REUc8vfA2X9xPDWg6tWocEdToAwON1ot5thcvrgCJ8UMmasJaNqD9hgCUioqimCD/iDMmI1SeEuyghtBoDEjQGCCHg9jlhd1vh9jqgCAUqmV+/RN3BTxAREUUtRfEjzpiMGH18uIvSqsDMX0boNcbA7F8+O+zuGrg9DkDi7F9EXcEAS0REUcmv+GExpiBGbwl3UTpMkiQYNDEwaGIghAJnw1S2Hp8DQoAts0QdxE8KERFFHb/iQ7wpDSZdXLiL0mWSJMOoM8OoMzeZyrYWbp8TEqeyJWoTAywREUUVv/AhwZQOo84c7qL0mNCpbP1wuG1weGwNU9mqOPsX0QEYYImIKGr4FR8SYgbBqI0Nd1F6jSyp/pzKVvGjvmH2Ly/DLFEQAywREUUFRfEhMWYQDP04vB5IllUwGxJhNiQGprJ11cDhrYfX74IQItzFIwobBlgiIop4fsWHpJjB0GtN4S5K2KhkNczGJJiRBJ/iRUXNfgAS/IoXfkXFG8Co24QQUIQfQODHkSypoZa1ETlSBt/tREQU0fzCh6TYwdBrBm54PZBa1iBOn4wYVSVSzcMhqf1weevh8bngU7yQ2dWAWqEIBYriByRAggSVrG7yfw20Kj00aj1Usjqi30MMsEREFLEU4UNyzBDoNMZwFyViyZIMoy4mOCKDX/HB7q6F2+eA1+eCIvyc0nYAaakVVSWroJI1kGUVNLIWWrUBalWgZTVa3xcMsEREFJH8ih/J5kzo1IZwFyWqqGR1w5S6gWl1PT4XHB4b3D4nfH4XhEBUBxfqP62o3cEAS0REEUdRfEg2Z0Gn1oe7KFFPq9ZD2/A6CqHA7XM2DNHlgs/vBhoCEEWOgdKK2h18xxIRUURRhB8p5ixoGF57nCTJ0GtMwf7EivDD6aln/9kwaK8VVaPSQas29OtW1O5ggCUioogQGBZKICU2Cxq1LtzFGRBkSRWcQAEAfIoXDreN/Wd7gBACfsUHtqL2DgZYIiIKOyEEBARSzVlQq7ThLs6ApZY1wf6zQgh4/W72n21Di62okhqypIFeGwOzycJW1F7CAEtERGHVOCB/qjkbapUmzKWhRpIktdx/1m2Dxz8w+s92pS+qw+FAuVyHOH0yjDqOntFb+u+7joiIIl5jeE0xZzG8RrjW+s8Gprl1wa94o3KqWyEU+BU/Ao3K7IsaLRhgiYgoLIQQgBRoee3PrXj9VbT0n+Ud/f0TzxhERNTnhBCQJAmp5mzIcuRNU0mdF87+s2xFHXgYYImIqE8FwquM1LisiJxjnbqvvf6zXr87eNNTRzS2ogookCA1a0VVy1ro1HqoVTq2og4QDLBERNRnhFAgy2qkmDMZXgeQDvWfhQxFKGxFpQ5hgCUioj7xZ3jNYgAZ4FrqP+vy2qGRNWxFpQ5hgCUiol6nCAVqWYNkcybDKzWjljWI0VnCXQyKIgywRETUqxShQKPSIjl2CCSGVyLqATyTEBFRr2F4JaLewBZYIiLqFYrih1ZjQFLMYPZnJKIexQBLREQ9TggFWo0RSTEZDK9E1OMYYImIqEcJoUCrNiCR4ZWIegkDLBER9RhF+KHXmJBgGsTwSkS9hgGWiIh6RCC8xiAxZlC4i0JE/RwDLBERdZsi/DBqzIiPSQt3UYhoAGCAJSKiblGEH0adGfFGhlci6hsMsE14vV74fL4e2Zbb7YYEFXxeBbLk75FtUvf5vArrBYAsS1CpOSYndZ+i+GHUWxBvTAl3UYhoAGGAbVBXVwdFUaDVantke1qtFmNGTIZGowHvY4gcwgBYjKkDvl7cbjccThu0BoZY6jpF8SNGH484Y3K4i0JEAwwDLABFUeD1epGQkNBj2/T7/VDgg1ar5Z24EUQIAVmWBny96PV6eKu8EIoLkjxwXwfqOr/ih1mfALMxKdxFIaIBiM0vCHQd0Ol04S4GUZ8yGIzw+5VwF4OikF/4YDYkMrwSUdiwBRaBFlhZZpangUUlyxAi3KWgaKMIP+IMyYjV99wVKyKizmKAJSKiDlEUP+KMyYjRx4e7KEQ0wLHZkYJW3H4nbr7plg6te/HSS7Dq0cd6uUREFCn8ig9xxhSGVyKKCGyB7UFCCHy9pxz7bQ6kxegxOd0ACAC9cI/MxUsvwS8bNgJouGFMUaDRaIKPv/fBOxg0qHOz4az4+x3trPHnwaxe8+9Obbsz6urq8MRj/8J///tfVFVVw2AwYFzuOFx51RUYOTKn1/ZLRM35FT8E/IgzpCBGbwl3cYiIADDA9pi38/bixvc2YndVXXDZ0AQT7j9uMk6ZkN3j+1v77HPBf69atQpff/01XnvttVbX9/v9UKlUXd6fEAJCKFCEP/BvKOiVZA7g9lvvQF19PdY8vQaDB2fAarVi1aOPYemFF+Ojj9fDaDL22L66+7oQ9TdCCCjCB1lSQas2IM5gglV2w6g1h7toRERB7ELQA97O24tFz30VEl4BIL/ajjNe+AZv5+0NS7lGjhyJ5557DrNmzcLq1asBAO+++y6OPvpoTJw4EfPmzcNLL70UXH/58uW4+uqrAQCvv/46jj/+eKxbtw5z5szBlClTcOONyyFBBY1ahwuWLMUjDz8KSZLw6COP4W+XX4lnnn4Wcw47HIfOnI0H//lQcLuVFZVYdsmlOHj6ITjtlEX45utvkTt2AgoLC1ss9/ff/4BTTjkJQ4YMhiRJSEhIwPKbbsT1N1wLb8NEE9XV1bjqyqsxferBmHvYPDz6yGMQDXck1dbacPNNt+DwOUdgzuy5uOaqa1FZWQUAKC4uxtTJ0/H6a2/g0JmzsX79hwCATz/5DMcvPBHTpszASSecjPff/6CHa4MocgmhwK94IUGCXmtCUmwm0i0jkBQ7GEateUAPOUdEkYktsK2odXqwrby23fWEELjy7Z+htHI7tyIErnr7Z6TH6tv9EhiVEoc4Q89MpNDo888/x7vvvguLxYJ9+/bhxhtvxGOPPYZ58+bhhx9+wAUXXIDJkydj1KhRIc9TqVTYv38/tmzZgo8//hj5+fk47bTTsGDBAhx55JGQJAmSJEOj0kGr0eL3337HxIkT8Nlnn+CHH3/Apcsux7HHHoNRo0dhxR13wulw4KNP1qO+vh7XX3sDAECtbvntl5mViZdefAVjx45FZlYmAECn02Hh8QuD69y98l5IkPDF/z5DbW0tlpx7AdLSU7Fo0WlYcfsKOBwOvPn261Cr1Vhx+5248oqr8OJLLwSf//PPG/DpZx9Db9Bjz5583HrLbXhk1f9h2rSp+O233/HXSy5FZuYQjB8/vkfrgyhSKIofAgIatR4GtQlGfRzUsqb9JxIRRQAG2BbUOj0YdvfbqHF6emR7+2odOHTVx+2uZzFoseeWk3o0xM6fPz84QUNGRgZ++OEHxMXFAQBmzpyJxMRE/PHHH80CLADY7XZceeWV0Ov1GD16NIYPH449e/Y0W0+SJKhUKlxy8TJIkoTD58xDbGwsCgoKMeKg4fjuu+/xjwfug8VigcViwamnnYrNm/9otcz33LsSy2+4GccesxCZmZmYNn0a5sw5DIfNmQ2VSoXaWhs++/QzvPLaS4iJiUFMTAweePAf0KjVqK2pxeeff4EXXnw+eNzLLl2GU046FcXFxcF9HHvsMcGuCG+8/gbmHj4XBx88AwAwZcpkHHX0Arz7zvsMsNRvNHYNkCQVdGoDDIZYGLQxkCV2oSGi6MMA288deCPX2rVr8f7776O8vByKosDj8cDjaTmoWywWmEym4N86nQ5ut7vFddPT04Nj6UqSCjqdDj6vH7YaO7xeLwYPHhxcd/SY0W2WecSIEXjjrdfwx+Y/8OOPP+HnnzfgmquvxciRI/HMs09h//5iKIqCQYMygs+ZOHECAGDr1q0QQiCroeUWAAYPDqxXvK8YgzICr0f6oPTg40VF+/D1V1/js08/Cy5TFAWzZh3aZjmJIl2g37oCtayBTmOEURcHndrALgFEFPUYYFsQ19AS2pEuBL8WV+OyN39qd70nTpmOiRltD/zdG10Iml6mf/vtt/H888/j8ccfx/Tp0yHLMubOndvqczszuUNr6zZ+UWrUOmhUOijCD5Xc2OLT9ij6Y8eNxdhxY3HBhecjP78Ap592Bt599z1MmBhoFRWic7NINf3S1jR5XWRZwmmLTsUtt97cqe0RRaJA1wAFGrUBOrUBMbp4qFXsGkBE/QsDbCviDFrMyEpud73pmUl46H9bm93A1dSIpFhcPDMn7K0eeXl5mDFjBg4++GAAQFVVFSoqKnp1n/Hx8VCpVCgpKcHo0aOhktTYvm0HAEAtayFLMpQmQXTnzp147dXXcePyG0LC99Ch2Rg8ZDBqamowaFAGJElCYeFeWCwWAMBPP/4Eh8OByVMmQ5ZlFBQUYuLEwGN7CwM30Q0ZMgQ+v69ZGYcMGdKsS0NpaRmSk5M4QgFFBb/ihSSpoFXrYdDHwKgzs2sAEfVrHIWgmyRJwv0LJ0NuJZzKkoT7jpsc9vAKBC7zb9++HTU1NSgvL8ett96K9PR0lJWV9do+tVotpkyZghdeeAE2mw1FRUV44403AACSJEOt0kKr1kOt0kKWVEhKSsKH6z/C3++8CyX7SyCEgM1mw/PPvYDCgkIcPu9wxMWZceSRR+DJf/0bNpsNJftLsOKOv6O8vBxmsxlH/uVIPPH4E6ipqUFNTQ0eW/U4pk+fhrT0tBbLePIpJ+O3X3/DO+vehdfrxbat23DWmWfhs88+77XXhag7hBDwKV4AgE5tQFLsEAyyjEBy7BDE6OMZXomo32OA7QEn5WbitfMOw4ik2JDlwxJMeOWcWTgpN7OVZ/atM844A9nZ2Zg7dy4uuOACXHDBBTjzzDPx3HPPhQyn1dPuueceuFwuzJkzB9dffz0uvvhiAKHdDmRJhlqlQWpyOl5++WV43B6cfda5mDZlBk5YeBJ+/ulnPP3MmuBEBrfcdjO0Wg2OnDcfZ55xFo46egFOW3QaAODW225GjCkGC/5yNE44/iTExMbgwYf/2Wr5hg0bivsfuA9PP/0MDp5+CK684mqce965WLBgfq+9JkSdpSh++BUvZFkFo86MNPMwpFuGIyFmEPQaU0T8SCYi6iuSEK2M/9TP5OXlAQByc3ObPeZ0OgEABoOhW/tonImrxOZEWqwOU9JiYTAYeBkagMfjgVYb6N/7ww8/4Pzzz8emTZtCZg9rSdMJFAJdDbo3tZkQIliWgf6F73K5UOMoh0YbGe9Pt9uNwsJCZGVlQafThbs4EcGv+CBBglZjgEETnq4BDocDW7duxejRo2E09twkItR9rJvIxHrpnrbyWlPsA9uDJEnCYcNTAQRmeHK5XGEuUWS4+eabUVxcjFWrVgEAnn76aRx66KHthlcADePNqiAj8KWtCCV4k0rgJq6BHUKpfxFCwC98gVED1AYYdWbo1GxdJSI6ELsQUK+77rrrEBsbi3nz5uEvf/kLdDod7r777i5tq7GrgUalg0alh0pWQ5L4NqbopSh++EK6Bgxt0jUghuGViKgFbIGlXpeQkIDHHnusx7crSRJUkhoq9HxXA6LeFNI1QB8Do9YMWY6MrhxERNGAAZb6hVa7GggFAuxqQOHVtGuAtqFrgJ5dA4iIuowBlvolWZIhqwJdCwJTaPobQq0PA+S+RQqzQF9tAbVKB73WAJPWAq2aN6cREfUEBljq95p2NZChgk9SIEsyJEkKzAUmBAQE/ux2wO4H1Hl+xQcBAY2shVqtg05lhEnHrgFERL2BAZYGHAkSZEndbHizQMusCPSnbfJfQDT8rzHkBrZCA1egVd8HSZKgVumgkXUwaGKg0xo5iQARUR9ggCVqEOiPKKGtbomhIVdp+C+CyxrWatxiL5aW+pLScIOgqmG6VrVKB6MmFhq1nv1YiYjCgAGWqBNCQ27LLW2BERH+DLiNbbfsqhA9WuoOYNDFQC23P3YxERH1Pg6gSRFr5MiR+OqrrwAACxYswOuvv97iem63GyNHjsSPP/7Y6X2sW7cO8+bN61Y5DyRJEmRZhkpWQ63SQK3SQqPSQqPWQavWQ6PSQ6PSQi1roZLVkCUVpIY+uVIw0DbtrkC9SQgBv+KFInxQySroNEYkmgYhI/4gpFmGISkmA7GGeIZXIqIIwhbYHiSEQJktHw5PHfRqE8yatF7f5+7du/HYY4/hxx9/hN1uR2JiIubNm4fLL78cFoul1/ffmptuugmlpaV49tlnmz22YcMGnH322fjss88wePDgDm3v448/7rGyrVu3DgsWLEBSUhJOPPFEnHjiiT227QO98847eO6557B3714oioLBgwdj8eLFOOOMM9hVIUxa6g5g0MRAqzawOwARUZRggO0hhZWbsaHgQ9S5qoLLTNp4TM0+GkNTxvfKPrdu3YqzzjoLp59+Ot59910kJCRg165duOeee3DmmWfi7bffhl6vD3mO3+9vdvNSbzj11FNx9tlno6SkBOnp6SGPrVu3DoccckiHw2tP8vv9eOihhzB9+nQkJSX16r6++OIL/P3vf8fDDz+MmTNnQgiB//73v7jhhhsQGxuLY489ttXndrargtfrhVqtaqGrQnCLPXZc0aZ5dwADDNpYqFVsUSUiilZh7UKwb98+XHjhhZg4cSJmzpyJBx54AIqitLjuSy+9hPnz52PSpElYuHAhPvvssz4ubesKKzfjf9teDAmvAGD3WPHVjpdRWLm5V/b797//HbNmzcKNN96IpKQkyLKMnJwcPP7445g4cSLKy8sBBC7FP/fcc5g1axZWr14NINAKumjRIkyePBnz58/HU089FWzZy8/Px5IlSzB16lRMmzYNl19+OaxWKwDg999/x6JFizBp0iTMmDEDt9xyC1wuV7OyTZkyBdnZ2Vi3bl3IcpfLhQ8//BCnnnoq3G43brvtNsycOROTJk3C4sWLsWPHjhaPdd68eXj55ZcBAA6HA9dccw2mTp2KI488El988UXIukVFRbjwwgsxdepUzJgxA9dccw1sNhsAYObMmaivr8dJJ52Exx57DG+99RYOPfTQ4HN37tyJc889F9OmTcO8efPwj3/8Ax6PBwDw+uuv4/jjj8e6deswZ84cTJ48Gddffz38fn+LZf7uu+8wceJEHHbYYdBoNNBqtViwYAFWrVqF4cOHB9d7+umnMXv2bEyaNAkXXnghiouLg4+98sorOProozFp0iScdNJJwS4VAHDuuefioYcewsknnYLLLr0capUWFWWV+NvlV2LGtJk4ct4C3HXnPXA7va12VfArPvgVbyDk9YPxcVvqDpDQrDtAAsMrEVGUC1uAFULg8ssvR3x8PL788kv85z//wYcffojnnnuu2bqffPIJHnroIdx///34+eefsWTJElx11VXYu3dvr5XP43Ohom5vu/8vtxXixz3vNt6m0/w4IfDjnvdQbitsd1seX/Mg2Jqqqips3LgR55xzTrPHTCYT7r33XmRmZgaXff7553j33XdxySWXoLKyEhdeeCFOOukk/PDDD3j44Yfx9NNP49VXXwUA3HXXXZg8eTJ++OEHfP7551AUBf/6178AADfccANOO+00/PLLL3j//fexc+fO4PMOdOqppzYLsJ9++inUajWOPPJIrFmzBj/99BPee+89/Pjjjxg+fDiWL1/e7rE/+eST2LZtGz744AO8/vrr+PDDD0Mev+WWWxAXF4dvvvkGH330EQoKCvDEE08AAN5+++3gfy+//PKQ53k8HlxwwQWYNGkSvvrqK6xduxaff/45Vq1aBQBQqVTYv38/tmzZgo8//hgvvvgiPvzwQ/z3v/9tsZxZWVnYuHEjPvnkk5CQe9hhh2HUqFEAgC+//BJPPfUUVq9ejR9//BHp6em45pprAARacP/5z3/irrvuwo8//ogLL7wQf/3rX7Fz587gttavX4977rkHa9asAQBcc801GDx4ML777ju8/fbb2Lt3L/75zweD/XE1Ki00Kh00ah00Kh1SzFlIjRuGRNMgxOgt0GmM0Kh0UDWMXepXfPA1hNzAzGaRFXIVocCneCGEArVKA6POjOTYTAyyHIQUczYSTOkw6mI5tBURUT8Tti4EeXl52L59O9auXYu4uDjExcVh6dKlWLt2Lc4///yQdV0uF6699lpMmjQJAHDKKafggQcewG+//RYS0nqKx+fCGz/fB4+/44GyLQ5PLdZv+le762lVepw6bTm0an276xYVFQEAhg4d2qEyzJ8/HwkJCQCA999/H+np6TjzzDMBAGPHjsUJJ5yADz74AGeccQaqqqqg1+uhVqthNpvx2GOPQZYDv3WqqqpgNBohyzKSk5PxyiuvBB870EknnYSHH34Yv/zyC6ZMmQIg0H3ghBNOgFarxSWXXIIlS5YgJiYGQOBGrTfffBM+nw9qdetvzU8//RSnn346UlNTAQAXXXRRSB/ZxlZmvV4PvV6PWbNmYePGje2+Rl999RUcDgcuu+wyaLVaZGZm4uyzz8azzz6La6+9FgBgt9tx5ZVXQq/XY/To0Rg+fDj27NnT4vbOOOMM7Ny5E1deeSVMJhOmTp2KQw45BMceeywSExMBBFp1jz32WIwePRoAcPXVV+Onn36Coih44403cMwxx2Dq1KkAgOOOOw7PPPMMPvroIxx00EEAgHHjxmHs2LEAgG3btmHTpk147rnnoNPpYDAY8Le//Q1Lly7FnXfe2WIZZUluCLVaGBDb4jp+xQe/3wev4obX725orfU3tN76ocCHhi67kGUVZKn3fhf7FR8AQC1r2B2AiGgAC1uA3bJlCzIyMkJuNBo7diwKCgpQX18fDDUAcPzxx4c812azob6+PhgCOkoIAYfD0Wy52+2GVqsNtpK1dkm4L/j9fvil9vffeLOJ1+vtUHnT0tKC6xUVFSErKyvkeRkZGfjoo4/g9/tx3XXX4eqrr8Zbb72F2bNn49hjj0Vubi6AQOvmzTffjNWrV2P27Nk44YQTMGzYsBb3GRcXh8MPPxxvvfUWJk6ciLKyMnz33XfBy+7FxcW4//778fvvv8NmswUu//r98Hg8weNTFAV+f6Dlr/HfpaWlSE9PD5Y/IyMjZN0NGzbg0UcfxZ49e+B2u+H3+zF27NjgdgAE96UoSvDfe/fuRXp6OlQqVci29+/fD6/XC0VRYLFYoNfrg49rtVo4nc4W60CWZdxxxx249NJL8d1332HDhg148skn8dBDD2HVqlU45JBDsHfvXkyePDn4fIvFgvnz50MIgX379oU81lieoqKi4LE0rdfCwkL4/f5g4G3k9/tRWVmJ+Pj4kOWKosDj8XS4VVWCBlpo/rxu09Co2ThVr8/vhVdxw+/3wC/8EIoffuGDoihQ4G/YhtTQlaF5n1y32x3y30Cd+4DGyQJUWhjUFujUpj9DsgA8bi888HboGKjznE5nyH8pcrBuIhPrpXuEEB26oTZsAdZqtSIuLi5kWePfVqs1JMA2JYTArbfeirFjx2LmzJmd2qfX68XWrVtbfOzAlsxjxv4NtgP6tLbE6ijFr/vWt7ve5MHHwGJse1QCsz4Rig9wdaArQWOf1y1btsBsNre7vqIowb6qfr8ffr8/pO+q1xsIAC6XC5MnT8aHH36Ir7/+Gt9++y3OO+88XHXVVVi0aBHmz5+P6dOn46uvvsI333yDU045Bffddx/mzJnT4n4XLlyIm266Cddccw3eeustjBkzBkOGDIHL5cLNN98MWZbx8ssvIykpCT/99BOWLVsGl8sVDFUejyf4t8/ng8vlgsfjCS4H/jxJeDweVFZW4sorr8TJJ5+MJ554AgaDAf/617/w/fffB5/bdLtNj9vr9UIIEfK6NK7f+LgkSSGPK4oSLFdrYmNjsWDBAixYsAA33HADrr32Wjz88MOYPHlyMES29PyWtq0oSrAuFUUJKY/P54PBYMC3337bYjkO3Ifb7UZ+fn6r5e5JgZvNAoHWDx8EfA2jKyiB/zYEXCEESkpLIEMDlaSGGnqoJA0kqTGgVvdJeam5goKCcBeBWsG6iUysl67TarXtrhO2ANuV4Wq8Xi+WL1+OXbt24bnnnmv10nVrNBoNRowY0Wx5Ywts0zv29dAj1mRpd5uDEoZhV8UPqHO3/sUaq0/EmMGH9OgQPWlpaZg+fTr+85//YO7cuSGPuVwunH322bj55psxefJkAAg5vuzsbHz//fchx7t//35kZmZCr9ejpqYGCQkJOOGEE3DCCSfgnXfewdq1a3HuueeipqYGaWlpWLRoERYtWoQnnngC7777LhYsWNBiOQ8//HDExMTghx9+wCeffIKzzjoruN8tW7bg/vvvD45G0Bim9Ho9dDpdSLklSYJarYZer0dKSkqwmwMAlJSUBNctKSlBfX09Lr300mCw37VrF2RZhl6vD34oGrer0WiC+xw2bBhKSkogy3JwvZKSEgwePBhGozFk3UayLAfL1ZQQAg8//DDmzJkT7D7R+NxDDjkEL7/8MvR6PTIzM1FcXBx8fnV1Nd555x2cffbZyMrKwr59+0K2XVRUhPnz50Ov1zfb9/Dhw+F0OlFZWRl8Te12O7xeb6tDqg0bNiz4WoeTEAIOpx0FBQUYNnQ4DAZDuItEDZxOJwoKCpCdnc16iTCsm8jEeumeXbt2dWi9sAXYhIQE1NTUhCxrvNO9sa9mUy6XC5deeimcTideeumlLo1xKkkSjEZji8sBdHl4qalDj8H/tr3Y4o1cEiRMzT66zT6dXXXbbbfhzDPPxJ133onLLrsMKSkp2L59O1auXAmNRoMJEyYEj0mW5eC/jz/+ePzf//0fXnvtNZxyyinYsmUL3nvvPdx0003wer046qijcOutt+LYY4+F3+/Htm3bMGTIEJSXl+OYY44JXv52OBzYvXs3MjMzW33tVCoVTj75ZKxduxZFRUU49thjg+umpaVh48aNOPLII/H9998Hb4aqrKwM9m1uLHdwcgCVCocddhjefPNNHHPMMVCr1Xj++eeD66anp0OWZfzyyy+YM2cOnn32WVRUVMBqtUIIEQx7hYWFwXUlSYJKpcKcOXMQGxuLJ598En/9619RXFyMF198ESeeeCJUKlXIusH6bVKuA1VUVODWW2/FPffcgwkTJgAANm3ahJdeeglHHXUUVCoVTjvttOCNcaNGjcKTTz6JvLw8XHTRRVi0aBGuueYanHTSScjNzcV7772HPXv24Ljjjgu+Jk3LM2rUKEyaNAn33Xcf7rnnHqhUKtx5552oq6sL9gtuqjHUR8oJVpIC3QsMBkOLn1MKL9ZL5GLdRCbWS9d0tLEvbKMQ5ObmYv/+/cHQCgS+3EeMGAGTyRSyrhACV199NbRaLdauXRvWAfpbkpU0DnNHnYVYfWif3BhdAg7LORNZSeN6Zb8jRozAG2+8AZfLhVNOOQUTJ07EFVdcgSlTpuC5555rtQk+ISEBjz32GF566SVMnToVN954I6644gqceOKJ0Ov1WLVqFZ5//nlMmzYNhx12GIqLi3H77bcjPT0dd999N+6//35MnjwZf/nLX6DX63HFFVe0Wc5TTjkFeXl5OProo0O6htx222347LPPMHXqVLz22mt45JFHMH78eJx22mmorKxsdXvXX389hg4diqOPPhqnnnoqTjzxRGg0Gvh8PqSmpuKaa67BLbfcgtmzZ8PhcOCBBx6Ax+PBOeecg6SkJBxxxBG47rrrgqMLNNJqtXj88cfxww8/YPr06bj44otxwgknYNmyZZ2olT/dfffdOP7443H77bdj+vTpmDlzJu666y4sWbIkONLA4YcfjosvvhiXXnopZsyYgYKCAjz00EMAgDlz5uDyyy/HNddcgxkzZuDll1/GM888g+zs7Fb3+eCDD0JRFMybNw/z5s2D1+vFfffd16XyExERRSpJhHFcnNNPPx2DBw/GHXfcgZKSElx44YW49NJLsXjxYhx11FFYuXIlpk6dinfffRePP/443nnnnWaXajsqLy8PAII3IzXV2Ieyuy1RjTNxOT110KljYNakwmAw9MnEAdQxjX1/9Xr9gK+Xnnrf9xSHw4GtW7di9OjRbLWIIKyXyMW6iUysl+5pK681FdaZuB555BHcfvvtmD17NkwmExYvXozFixcDCPSHbBwx4M0330RRURGmTZsW8vwTTjgBK1eu7PNyt0aSJKTFBe7IP/AmKSIiIiLqGWENsGlpaS32zQOA7du3B//d0uQGRERERDQwhXUqWSIiIiKizmKAJSIiIqKowgBLRERERFGFARaB8TAVRQl3MYj6lKIonZ4MhIiIKBLw2wuBGboa518nGijcbndwdjEiIqJoEtZRCCKFLMvQaDSora3t0Py7HaEoSjAUs5UrcrBeAjweDzQazYB+DYiIKHrx26tBbGxsjw447PF4kJ+fD4/H02PbpO5jvQQYjUbExsaGuxhERERdwhbYJjQaTY9dUm2c4Eyn00XMTEfEeiEiIuoP2AJLRERERFGFAZaIiIiIogoDLBERERFFFQZYIiIiIooqkmi8q6Wf27hxI4QQPTZMVnuEEPB6vdBoNJAkqU/2Se1jvUQu1k1kYr1ELtZNZGK9dI/H44EkSZg8eXKb6w2YUQj6+k0kSVKfhWXqONZL5GLdRCbWS+Ri3UQm1kv3SJLUocw2YFpgiYiIiKh/YB9YIiIiIooqDLBEREREFFUYYImIiIgoqjDAEhEREVFUYYAlIiIioqjCAEtEREREUYUBloiIiIiiCgMsEREREUUVBlgiIiIiiioMsL3onnvuwciRI8NdDGriiSeewKxZszBp0iQsWbIERUVF4S4SAfjjjz9w7rnnYurUqTjkkENwww03wGq1hrtYA9LXX3+NQw45BFdffXWzxz744AMsWLAAubm5OO644/Dtt9+GoYQDU1v18tFHH2HhwoWYNGkS5s+fj1dffTUMJRy42qqbRna7HXPnzsXy5cv7sGT9GwNsL9m6dSveeeedcBeDmnjppZfwxRdf4NVXX8X//vc/pKen49lnnw13sQY8v9+Piy++GJMmTcJ3332H9evXo7KyEitWrAh30QacNWvWYOXKlcjKymr22ObNm3HjjTfiyiuvxM8//4zzzjsPl112GUpLS8NQ0oGlrXrZtGkTbrjhBlx99dXYsGEDbrvtNtx1113YsGFDGEo68LRVN02tWrUKdXV1fVSqgYEBthcoioI77rgDS5YsCXdRqImnn34at912GzIyMhAXF4d7770Xt99+e7iLNeBVVFSgsrISCxcuhFarhcViwRFHHIEtW7aEu2gDjk6nwxtvvNHil/Gbb76Jww47DMcccwz0ej1OO+005OTk8Id6H2irXmpqarBs2TLMmzcPKpUKs2fPxsiRI/Hzzz+HoaQDT1t102jbtm14//33cfLJJ/dhyfo/Bthe8Morr0Cv12PhwoXhLgo1KCsrQ2lpKQoLCzF//nzMmDEDV111FS9TR4DU1FSMGTMGr732GpxOJ6qrq/Hpp59i7ty54S7agHPuueciNja2xce2bNmCsWPHhiwbM2YMNm/e3BdFG9DaqpfDDjsMl156afBvn8+H8vJyJCYm9lXxBrS26gYAhBBYsWIFrrvuOpjN5j4sWf/HANvDKisr8fjjj/PyZ4QpLS2FJEn47LPP8Oqrr2LdunUoLi7GbbfdFu6iDXiSJOHRRx/F559/jokTJ2LmzJlQFAXXXHNNuItGTVitVlgslpBlcXFxqK6uDk+BqEX//Oc/odVqcdxxx4W7KATg1VdfhUajwYknnhjuovQ7DLA97N5778WiRYswbNiwcBeFmvB6vfB6vbj++usRHx+P9PR0XHHFFfjss8/gdrvDXbwBzePx4JJLLsExxxyDjRs34ttvv0VMTAyuv/76cBeNmpAkqVPLqW8JIfDAAw/g/fffx+rVq2E0GsNdpAGvqqoKq1atYoNWL2GA7UHff/89Nm/ejGXLloW7KHSAxpajmJiY4LKMjAwIIVBVVRWmUhEAfPfdd9i3bx+uuuoqmEwmJCUl4W9/+xs+/fRTtu5FkPj4+GZdbqxWKxISEsJUImqkKAqWL18evEl1+PDh4S4SAbjvvvuwaNEi1kcvUYe7AP3Ju+++i9LSUhx22GEAAr+IAfx/e3cfU2X9/3H8eQ43wmBWqzGYOqEonMW4EcwpoGJDAtFSoQmySp0ylpKaJox0GTNdSBHDZW0E0a0smMAQnRQGpsg6GGhNJmkmBCKV5g03wvn+4Tw/yZvwNxMPvB4bG9d1ffh83teHHXhd1/mcc3j66adZv349kZGRg1nesDZ27FicnZ05evQoQUFBADQ3N2Nra4uLi8sgVze8mc1m+vr6+u3r6ekBwGjUNfb9wtvbm6NHj/bb19DQoL9r94FNmzbR1NTEF198ccMyDxk8xcXFjBw5ks8//xyAzs5O+vr6+Pbbb6mpqRnk6qyfAuxdtG7dOpKSkizbra2tvPDCC+zcuZMHHnhgECsTOzs7oqOjSU9Px9PTExsbG7Kzs5kzZw62tnoYDCZfX1+cnJzIysoiISGBrq4uPvroI/z8/PTP+D4SHR3N/PnzKSsrIzQ0lIKCAk6dOqW1fYPshx9+oKSkhLKyMj1e7jP79u3rt/3xxx/T2tpKcnLyIFU0tBjM124Tyl13+vRpZsyYwbFjxwa7FOHqWsvNmzdTWlqK0WgkNDSUlJSUfssKZHDU19fzzjvv8PPPP2NnZ8fEiRNJTk7G1dV1sEsbVry9vYGrr2QHLBd3DQ0NAOzZs4etW7fS0tLCY489RmpqKgEBAYNT7DByu99LSkoKRUVFN1yIBwYGkpOTc28LHYb+7TFzvaysLJqbm9m8efO9K3AIU4AVEREREauiBWYiIiIiYlUUYEVERETEqijAioiIiIhVUYAVEREREauiACsiIiIiVkUBVkRERESsigKsiIiIiFgVBVgRkX+RmprKwoULB9x+0aJFrF279j+sSERkeNMHGYjIkJCamsrOnTst293d3dja2mI0/t91+s0+HcdaxcfH88gjj/Duu+/elf4aGxv55ZdfCA8Pvyv9iYj8l3QHVkSGhLS0NBoaGixfcDXU/nPf9Xp6eu51mfetwsJCdu/ePdhliIgMiAKsiAwbNTU1eHl5UVxczJQpU0hLSwOgvr6e+Ph4AgMDmTBhAnFxcf0C77p164iJiQHg+++/x8vLi/r6emJjY/H19WX69OkUFBRY2sfHx7Ny5UoACgoKmDhxInV1dTz33HP4+Pgwc+ZMvvnmG0v7M2fOkJCQQEBAANOnT2fHjh0sXryY1atXD/jcQkJCyMnJIS0tjUmTJhEQEMDKlSu5dOkScPWO9MaNGwkODsbHx4fQ0FA++OADzGYzSUlJ5ObmUl5ejre3NydOnKC3t5eMjAxCQ0Px8fFh2rRpbN26lb6+PgB+/fVXvLy8+O6771i2bBl+fn4EBQWRnZ3dr66cnBxLH7NmzaKsrMxy7Ny5cyQnJzNp0iT8/f2ZN28ee/fu7Xf8tddeY/Lkyfj6+hIeHs6OHTsGPCciMnQpwIrIsLNr1y5KS0vZsGED3d3dLF26FA8PD6qqqqiurmbMmDEkJiZawtr1bGxsAMjMzGTTpk2YTCaef/553nzzTc6ePXvT9hcvXiQvL48PP/yQ2tpa/P39SU5Opre3F4CkpCTa2tooKSmhpKSEmpoajhw5gp2d3YDPydbWltzcXCZMmEB1dTWfffYZFRUVlsCXm5tLbW0thYWFHD58mMzMTPLz86mqqiIzM5PAwEDCw8NpaGjAw8ODTz75hE8//ZRt27Zx+PBhsrKyyM/P56uvvrphHpYvX47JZCIpKYn333+fn376CYDi4mK2b9/O1q1bMZlMJCYmsnr1aurq6gBYu3YtHR0dFBcXc/DgQRYtWsSKFSssxzMyMvjjjz8oLy/HZDLxxhtv8Pbbb3P8+PEBz4uIDE0KsCIy7MydO5eHHnoIo9GIvb09e/fuJTU1FQcHBxwdHZk1axZnzpyhpaXlln0sWLAAd3d3jEYjkZGR9PT0cOLEiZu2vXLlCgkJCbi4uGBvb094eDh//fUXbW1tnDlzBpPJxJIlS3Bzc8PZ2ZkNGzZw8eLFOz4vb29vnn32WWxtbfHy8sLLy4tjx44B0N7ejtFoxMHBAYPBgLe3N9XV1YSEhNy0r/j4eCorKxk3bpyl/bhx4/jxxx/7tZs9ezZPPfUUBoOBqKgo4Op6WoD8/HwiIyPx8/PDxsaGiIgI3nvvPR588EGampqorKxkzZo1lnmJjIwkODiYL7/80lKzwWBgxIgRGI1GpkyZgslkwtPT847nRkSGFtvBLkBE5F4bM2ZMv+2Kigry8vL47bff6Ozs5NprW7u6um7Zh7u7u+X7ESNGAHD58uVbth87dqzlewcHB0v78+fP33B85MiReHh4DPBsbj7GtXE6OzsBWLx4MbW1tQQHBxMQEEBQUBBRUVE8/PDDN+2ro6ODjIwMDh06REdHB2azmZ6eHtzc3Pq1u34erj8vgJMnTxIREdGv/cyZMwEsSwXmzp3b77jZbMbPzw+4emc6MTGRKVOmMGnSJIKDg4mMjMTZ2XnAcyIiQ5MCrIgMO9c/NW8ymXj99ddZtWoVcXFxODk5ceDAAV566aXb9mEwGO5ozOvfDeF618LyP4/faf+3GwPA1dWVoqIijhw5wv79+ykpKSE7O5u8vDzGjx9/Q/uUlBRaW1vZvn07jz/+OAaDgbi4uBva/VudN1uGcf3PVVZW3jJEe3l5sWfPHurq6qiuriY3N5fs7Gx27NiBq6vrbccVkaFNSwhEZFirq6vDycmJpUuX4uTkBMCRI0fu2fguLi4AnD592rLvwoULt1yO8P916dIlurq68Pb2JiEhga+//prx48dTVFR00/Ymk4no6GieeOIJDAYDly9fvuO1p2PHjqWpqanfvsLCQkwmk+UO8z/nurm52bI2+Pz58/T19REQEMCrr75KaWkpjo6OlJeX31EdIjL0KMCKyLA2atQoLl68iMlkore3l9LSUqqqqgD4/fff//PxR48ejaenJzk5ObS3t3PhwgXS0tLu+tPkiYmJpKSk0NHRAcCpU6doaWmxLAFwdHSkubmZc+fO0dXVxahRozh06BDd3d20tbWxatUq3NzcaG1tZaBvH75w4UJ27drFgQMHuHLlChUVFaxfvx6ARx99lKlTp5Kenk5TUxO9vb3s37+f2bNns3v3bsxmM/Pnzyc9PZ2///4bs9lMY2Mjf/75Z79lCyIyPCnAisiwFhYWRkxMDMuWLWPy5MkcPHiQbdu2MXHiRJKSkti3b99/XkNWVhY2NjaEhYUxb948QkJCGD169G2XBNypLVu20NPTQ2RkJD4+Prz88stERUWxYMECAGJiYjh58iRhYWE0NDSwceNGTp06RWBgIEuWLCE2NpZXXnmFxsZGXnzxxQGNOWfOHEtw9vf3JyMjgy1btuDv72+p6cknnyQ2NhY/Pz/S0tJYs2YNERERGAwGsrOzOX78ODNmzMDf359Vq1axYsUKpk2bdtfmRUSskz6JS0TkPtDd3Y29vb1le+rUqcyfP5/ly5cPYlUiIvcn3YEVERlkiYmJxMfHc/bsWbq7u8nLy6O9vZ1nnnlmsEsTEbkv6Q6siMgga29v56233qKmpoaenh7c3d1JTExUgBURuQUFWBERERGxKlpCICIiIiJWRQFWRERERKyKAqyIiIiIWBUFWBERERGxKgqwIiIiImJVFGBFRERExKoowIqIiIiIVVGAFRERERGrogArIiIiIlblf87pDR6Ai533AAAAAElFTkSuQmCC",
          "text/plain": "<Figure size 800x550 with 1 Axes>"
         },
         "metadata": {},
         "output_type": "display_data"
        }
       ]
      }
     },
     "8f7cdc6a9ff046ada042edf281b43f9b": {
      "model_module": "@jupyter-widgets/controls",
      "model_module_version": "2.0.0",
      "model_name": "HTMLModel",
      "state": {
       "layout": "IPY_MODEL_9f83b6d35d0e49b79ff4700afe49a039",
       "style": "IPY_MODEL_239a1e25883041b19453e7d1d16a0523",
       "value": " 4/4 [00:03&lt;00:00,  1.10it/s]"
      }
     },
     "92ce7a859053439aa7e6b35bbe636876": {
      "model_module": "@jupyter-widgets/controls",
      "model_module_version": "2.0.0",
      "model_name": "HTMLModel",
      "state": {
       "layout": "IPY_MODEL_132d4b33b3ff48b3ad78b72bca96381e",
       "style": "IPY_MODEL_8771c9dcab4f416eaf74f63aefe861ae",
       "value": "Processing: 100%"
      }
     },
     "9628ecd49cd14f34aeb08d0451a937a3": {
      "model_module": "@jupyter-widgets/base",
      "model_module_version": "2.0.0",
      "model_name": "LayoutModel",
      "state": {}
     },
     "9c81f09e538d4756b8c839181a7d3984": {
      "model_module": "@jupyter-widgets/base",
      "model_module_version": "2.0.0",
      "model_name": "LayoutModel",
      "state": {}
     },
     "9f83b6d35d0e49b79ff4700afe49a039": {
      "model_module": "@jupyter-widgets/base",
      "model_module_version": "2.0.0",
      "model_name": "LayoutModel",
      "state": {}
     },
     "b2c8f06b7cb94c409fff54bfb2e26446": {
      "model_module": "@jupyter-widgets/controls",
      "model_module_version": "2.0.0",
      "model_name": "HTMLStyleModel",
      "state": {
       "description_width": "",
       "font_size": null,
       "text_color": null
      }
     },
     "b2e1548a5db24133b0b80c9480499516": {
      "model_module": "@jupyter-widgets/controls",
      "model_module_version": "2.0.0",
      "model_name": "VBoxModel",
      "state": {
       "_dom_classes": [
        "widget-interact"
       ],
       "children": [
        "IPY_MODEL_c68cb2afd4ae4c69be0b23157533aa8e",
        "IPY_MODEL_8af1b1fe82c14ccc9de74ed64a8602f1"
       ],
       "layout": "IPY_MODEL_db85795ab75a4f8680aa341e23d8d85b"
      }
     },
     "bb27c024a5324035adbe3a314f37f5cb": {
      "model_module": "@jupyter-widgets/controls",
      "model_module_version": "2.0.0",
      "model_name": "ProgressStyleModel",
      "state": {
       "description_width": ""
      }
     },
     "c5b6c11890cf4f5a82302d55bc3cca49": {
      "model_module": "@jupyter-widgets/controls",
      "model_module_version": "2.0.0",
      "model_name": "HTMLModel",
      "state": {
       "layout": "IPY_MODEL_4dc30c9fdcfb4988b964fdd1de36cc7f",
       "style": "IPY_MODEL_de43a8739eba4862b3692ab94468705c",
       "value": " 61/61 [00:57&lt;00:00,  1.75it/s]"
      }
     },
     "c62eb4f6afaa433badfa45234f90222e": {
      "model_module": "@jupyter-widgets/base",
      "model_module_version": "2.0.0",
      "model_name": "LayoutModel",
      "state": {
       "visibility": "hidden"
      }
     },
     "c68cb2afd4ae4c69be0b23157533aa8e": {
      "model_module": "@jupyter-widgets/controls",
      "model_module_version": "2.0.0",
      "model_name": "ToggleButtonsModel",
      "state": {
       "_options_labels": [
        "Pipeline Plot",
        "Hyperparameters",
        "AUC",
        "Confusion Matrix",
        "Threshold",
        "Precision Recall",
        "Prediction Error",
        "Class Report",
        "Feature Selection",
        "Learning Curve",
        "Manifold Learning",
        "Calibration Curve",
        "Validation Curve",
        "Dimensions",
        "Feature Importance",
        "Feature Importance (All)",
        "Decision Boundary",
        "Lift Chart",
        "Gain Chart",
        "Decision Tree",
        "KS Statistic Plot"
       ],
       "button_style": "",
       "description": "Plot Type:",
       "icons": [
        ""
       ],
       "index": 9,
       "layout": "IPY_MODEL_73ce833f7e6548bdb22bbf5647939966",
       "style": "IPY_MODEL_298b0bcfe8ca4cccadff031a586d86b1",
       "tooltips": []
      }
     },
     "c8957b70ab664431b7b68ed3bf311c70": {
      "model_module": "@jupyter-widgets/base",
      "model_module_version": "2.0.0",
      "model_name": "LayoutModel",
      "state": {
       "visibility": "hidden"
      }
     },
     "db85795ab75a4f8680aa341e23d8d85b": {
      "model_module": "@jupyter-widgets/base",
      "model_module_version": "2.0.0",
      "model_name": "LayoutModel",
      "state": {}
     },
     "de43a8739eba4862b3692ab94468705c": {
      "model_module": "@jupyter-widgets/controls",
      "model_module_version": "2.0.0",
      "model_name": "HTMLStyleModel",
      "state": {
       "description_width": "",
       "font_size": null,
       "text_color": null
      }
     }
    },
    "version_major": 2,
    "version_minor": 0
   }
  }
 },
 "nbformat": 4,
 "nbformat_minor": 5
}
